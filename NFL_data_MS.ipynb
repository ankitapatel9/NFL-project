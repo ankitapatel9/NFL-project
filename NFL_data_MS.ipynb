{
 "cells": [
  {
   "cell_type": "code",
   "execution_count": 1,
   "metadata": {},
   "outputs": [
    {
     "name": "stdout",
     "output_type": "stream",
     "text": [
      "Collecting nflgame-redux==2.0.1b1\n",
      "  Downloading https://files.pythonhosted.org/packages/af/93/f8ed53c8478e6f0a3f49b3bb9cc376528fb5fa0516bbb6f760bb578dab6c/nflgame_redux-2.0.1b1-py3-none-any.whl (44.1MB)\n",
      "Requirement already satisfied: pytz in c:\\users\\mamsh\\anaconda3\\lib\\site-packages (from nflgame-redux==2.0.1b1) (2019.1)\n",
      "Requirement already satisfied: lxml in c:\\users\\mamsh\\anaconda3\\lib\\site-packages (from nflgame-redux==2.0.1b1) (4.3.4)\n",
      "Requirement already satisfied: requests in c:\\users\\mamsh\\anaconda3\\lib\\site-packages (from nflgame-redux==2.0.1b1) (2.22.0)\n",
      "Requirement already satisfied: beautifulsoup4 in c:\\users\\mamsh\\anaconda3\\lib\\site-packages (from nflgame-redux==2.0.1b1) (4.7.1)\n",
      "Requirement already satisfied: chardet<3.1.0,>=3.0.2 in c:\\users\\mamsh\\anaconda3\\lib\\site-packages (from requests->nflgame-redux==2.0.1b1) (3.0.4)\n",
      "Requirement already satisfied: certifi>=2017.4.17 in c:\\users\\mamsh\\anaconda3\\lib\\site-packages (from requests->nflgame-redux==2.0.1b1) (2019.6.16)\n",
      "Requirement already satisfied: idna<2.9,>=2.5 in c:\\users\\mamsh\\anaconda3\\lib\\site-packages (from requests->nflgame-redux==2.0.1b1) (2.8)\n",
      "Requirement already satisfied: urllib3!=1.25.0,!=1.25.1,<1.26,>=1.21.1 in c:\\users\\mamsh\\anaconda3\\lib\\site-packages (from requests->nflgame-redux==2.0.1b1) (1.24.2)\n",
      "Requirement already satisfied: soupsieve>=1.2 in c:\\users\\mamsh\\anaconda3\\lib\\site-packages (from beautifulsoup4->nflgame-redux==2.0.1b1) (1.8)\n",
      "Installing collected packages: nflgame-redux\n",
      "Successfully installed nflgame-redux-2.0.1b1\n"
     ]
    }
   ],
   "source": [
    "!pip install nflgame-redux==2.0.1b1"
   ]
  },
  {
   "cell_type": "code",
   "execution_count": 2,
   "metadata": {},
   "outputs": [
    {
     "name": "stdout",
     "output_type": "stream",
     "text": [
      "L.McCoy 31 carries for 184 yards and 1 TDs\n",
      "T.Pryor 13 carries for 112 yards and 0 TDs\n",
      "S.Vereen 14 carries for 101 yards and 0 TDs\n",
      "A.Peterson 18 carries for 93 yards and 2 TDs\n",
      "R.Bush 21 carries for 90 yards and 0 TDs\n"
     ]
    }
   ],
   "source": [
    "import nflgame\n",
    "\n",
    "games = nflgame.games(2013, week=1)\n",
    "players = nflgame.combine_game_stats(games)\n",
    "for p in players.rushing().sort('rushing_yds').limit(5):\n",
    "    msg = '%s %d carries for %d yards and %d TDs'\n",
    "    print(f'{p} {p.rushing_att} carries for {p.rushing_yds} yards and {p.rushing_tds} TDs')\n"
   ]
  },
  {
   "cell_type": "code",
   "execution_count": 1,
   "metadata": {},
   "outputs": [],
   "source": [
    "%config IPCompleter.greedy=True"
   ]
  },
  {
   "cell_type": "code",
   "execution_count": null,
   "metadata": {},
   "outputs": [],
   "source": [
    "nflgame."
   ]
  }
 ],
 "metadata": {
  "kernelspec": {
   "display_name": "Python 3",
   "language": "python",
   "name": "python3"
  },
  "language_info": {
   "codemirror_mode": {
    "name": "ipython",
    "version": 3
   },
   "file_extension": ".py",
   "mimetype": "text/x-python",
   "name": "python",
   "nbconvert_exporter": "python",
   "pygments_lexer": "ipython3",
   "version": "3.7.3"
  }
 },
 "nbformat": 4,
 "nbformat_minor": 2
}
