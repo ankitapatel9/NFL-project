{
 "cells": [
  {
   "cell_type": "code",
   "execution_count": 14,
   "metadata": {},
   "outputs": [],
   "source": [
    "# ####%matplotlib notebook\n",
    "import matplotlib.pyplot as plt\n",
    "import pandas as pd\n",
    "import numpy as np\n",
    "\n",
    "from scipy.stats import sem\n"
   ]
  },
  {
   "cell_type": "markdown",
   "metadata": {},
   "source": [
    "### Read NFL-QB csv data ###"
   ]
  },
  {
   "cell_type": "code",
   "execution_count": 15,
   "metadata": {},
   "outputs": [
    {
     "data": {
      "text/html": [
       "<div>\n",
       "<style scoped>\n",
       "    .dataframe tbody tr th:only-of-type {\n",
       "        vertical-align: middle;\n",
       "    }\n",
       "\n",
       "    .dataframe tbody tr th {\n",
       "        vertical-align: top;\n",
       "    }\n",
       "\n",
       "    .dataframe thead th {\n",
       "        text-align: right;\n",
       "    }\n",
       "</style>\n",
       "<table border=\"1\" class=\"dataframe\">\n",
       "  <thead>\n",
       "    <tr style=\"text-align: right;\">\n",
       "      <th></th>\n",
       "      <th>Rk</th>\n",
       "      <th>Player</th>\n",
       "      <th>From</th>\n",
       "      <th>To</th>\n",
       "      <th>No. of Season</th>\n",
       "      <th>Tm</th>\n",
       "      <th>Lg</th>\n",
       "      <th>G</th>\n",
       "      <th>GS</th>\n",
       "      <th>Cmp</th>\n",
       "      <th>...</th>\n",
       "      <th>Yds.1</th>\n",
       "      <th>Y/A</th>\n",
       "      <th>AY/A</th>\n",
       "      <th>ANY/A</th>\n",
       "      <th>Y/G</th>\n",
       "      <th>W</th>\n",
       "      <th>L</th>\n",
       "      <th>T</th>\n",
       "      <th>4QC</th>\n",
       "      <th>GWD</th>\n",
       "    </tr>\n",
       "  </thead>\n",
       "  <tbody>\n",
       "    <tr>\n",
       "      <th>0</th>\n",
       "      <td>1</td>\n",
       "      <td>Peyton Manning</td>\n",
       "      <td>1998</td>\n",
       "      <td>2015</td>\n",
       "      <td>18</td>\n",
       "      <td>TOT</td>\n",
       "      <td>NFL</td>\n",
       "      <td>266.0</td>\n",
       "      <td>265.0</td>\n",
       "      <td>6125</td>\n",
       "      <td>...</td>\n",
       "      <td>1953</td>\n",
       "      <td>7.67</td>\n",
       "      <td>7.61</td>\n",
       "      <td>7.17</td>\n",
       "      <td>270.5</td>\n",
       "      <td>186.0</td>\n",
       "      <td>79.0</td>\n",
       "      <td>0.0</td>\n",
       "      <td>43.0</td>\n",
       "      <td>54.0</td>\n",
       "    </tr>\n",
       "    <tr>\n",
       "      <th>1</th>\n",
       "      <td>2</td>\n",
       "      <td>Tom Brady</td>\n",
       "      <td>2000</td>\n",
       "      <td>2019</td>\n",
       "      <td>20</td>\n",
       "      <td>NWE</td>\n",
       "      <td>NFL</td>\n",
       "      <td>273.0</td>\n",
       "      <td>271.0</td>\n",
       "      <td>6094</td>\n",
       "      <td>...</td>\n",
       "      <td>2960</td>\n",
       "      <td>7.52</td>\n",
       "      <td>7.81</td>\n",
       "      <td>7.14</td>\n",
       "      <td>262.2</td>\n",
       "      <td>211.0</td>\n",
       "      <td>60.0</td>\n",
       "      <td>0.0</td>\n",
       "      <td>35.0</td>\n",
       "      <td>44.0</td>\n",
       "    </tr>\n",
       "    <tr>\n",
       "      <th>2</th>\n",
       "      <td>3</td>\n",
       "      <td>Drew Brees</td>\n",
       "      <td>2001</td>\n",
       "      <td>2019</td>\n",
       "      <td>19</td>\n",
       "      <td>TOT</td>\n",
       "      <td>NFL</td>\n",
       "      <td>266.0</td>\n",
       "      <td>265.0</td>\n",
       "      <td>6621</td>\n",
       "      <td>...</td>\n",
       "      <td>2821</td>\n",
       "      <td>7.61</td>\n",
       "      <td>7.60</td>\n",
       "      <td>7.03</td>\n",
       "      <td>281.4</td>\n",
       "      <td>156.0</td>\n",
       "      <td>109.0</td>\n",
       "      <td>0.0</td>\n",
       "      <td>35.0</td>\n",
       "      <td>49.0</td>\n",
       "    </tr>\n",
       "    <tr>\n",
       "      <th>3</th>\n",
       "      <td>4</td>\n",
       "      <td>Brett Favre*</td>\n",
       "      <td>1991</td>\n",
       "      <td>2010</td>\n",
       "      <td>20</td>\n",
       "      <td>TOT</td>\n",
       "      <td>NFL</td>\n",
       "      <td>302.0</td>\n",
       "      <td>298.0</td>\n",
       "      <td>6300</td>\n",
       "      <td>...</td>\n",
       "      <td>3487</td>\n",
       "      <td>7.06</td>\n",
       "      <td>6.58</td>\n",
       "      <td>5.93</td>\n",
       "      <td>237.9</td>\n",
       "      <td>186.0</td>\n",
       "      <td>112.0</td>\n",
       "      <td>0.0</td>\n",
       "      <td>28.0</td>\n",
       "      <td>43.0</td>\n",
       "    </tr>\n",
       "    <tr>\n",
       "      <th>4</th>\n",
       "      <td>5</td>\n",
       "      <td>Philip Rivers</td>\n",
       "      <td>2004</td>\n",
       "      <td>2019</td>\n",
       "      <td>16</td>\n",
       "      <td>SDG</td>\n",
       "      <td>NFL</td>\n",
       "      <td>216.0</td>\n",
       "      <td>212.0</td>\n",
       "      <td>4619</td>\n",
       "      <td>...</td>\n",
       "      <td>2552</td>\n",
       "      <td>7.82</td>\n",
       "      <td>7.76</td>\n",
       "      <td>6.99</td>\n",
       "      <td>258.8</td>\n",
       "      <td>120.0</td>\n",
       "      <td>92.0</td>\n",
       "      <td>0.0</td>\n",
       "      <td>26.0</td>\n",
       "      <td>31.0</td>\n",
       "    </tr>\n",
       "  </tbody>\n",
       "</table>\n",
       "<p>5 rows × 30 columns</p>\n",
       "</div>"
      ],
      "text/plain": [
       "   Rk          Player  From    To  No. of Season   Tm   Lg      G     GS  \\\n",
       "0   1  Peyton Manning  1998  2015             18  TOT  NFL  266.0  265.0   \n",
       "1   2       Tom Brady  2000  2019             20  NWE  NFL  273.0  271.0   \n",
       "2   3      Drew Brees  2001  2019             19  TOT  NFL  266.0  265.0   \n",
       "3   4    Brett Favre*  1991  2010             20  TOT  NFL  302.0  298.0   \n",
       "4   5   Philip Rivers  2004  2019             16  SDG  NFL  216.0  212.0   \n",
       "\n",
       "    Cmp  ...  Yds.1   Y/A  AY/A  ANY/A    Y/G      W      L    T   4QC   GWD  \n",
       "0  6125  ...   1953  7.67  7.61   7.17  270.5  186.0   79.0  0.0  43.0  54.0  \n",
       "1  6094  ...   2960  7.52  7.81   7.14  262.2  211.0   60.0  0.0  35.0  44.0  \n",
       "2  6621  ...   2821  7.61  7.60   7.03  281.4  156.0  109.0  0.0  35.0  49.0  \n",
       "3  6300  ...   3487  7.06  6.58   5.93  237.9  186.0  112.0  0.0  28.0  43.0  \n",
       "4  4619  ...   2552  7.82  7.76   6.99  258.8  120.0   92.0  0.0  26.0  31.0  \n",
       "\n",
       "[5 rows x 30 columns]"
      ]
     },
     "execution_count": 15,
     "metadata": {},
     "output_type": "execute_result"
    }
   ],
   "source": [
    "nfl_te_file =  \"Data/NFLTEDATA_Mod.csv\"\n",
    "nfl_wb_file = \"Data/NFLWRDATA_Mod.csv\"\n",
    "nfl_rb_file = \"Data/NFLRBDATA_Mod.csv\"\n",
    "nfl_file = \"Data/NFLQBDATA_Mod.csv\"\n",
    "nfl_data_df = pd.read_csv(nfl_file)\n",
    "nfl_data_df.head()"
   ]
  },
  {
   "cell_type": "code",
   "execution_count": 16,
   "metadata": {},
   "outputs": [
    {
     "data": {
      "text/plain": [
       "Index(['Rk', 'Player', 'From', 'To', 'No. of Season', 'Tm', 'Lg', 'G', 'GS',\n",
       "       'Cmp', 'Att', 'Cmp%', 'Yds', 'TD', 'Int', 'Pick6', 'TD%', 'Int%',\n",
       "       'Rate', 'Sk', 'Yds.1', 'Y/A', 'AY/A', 'ANY/A', 'Y/G', 'W', 'L', 'T',\n",
       "       '4QC', 'GWD'],\n",
       "      dtype='object')"
      ]
     },
     "execution_count": 16,
     "metadata": {},
     "output_type": "execute_result"
    }
   ],
   "source": [
    "nfl_data_df.columns"
   ]
  },
  {
   "cell_type": "code",
   "execution_count": 17,
   "metadata": {},
   "outputs": [
    {
     "data": {
      "text/html": [
       "<div>\n",
       "<style scoped>\n",
       "    .dataframe tbody tr th:only-of-type {\n",
       "        vertical-align: middle;\n",
       "    }\n",
       "\n",
       "    .dataframe tbody tr th {\n",
       "        vertical-align: top;\n",
       "    }\n",
       "\n",
       "    .dataframe thead th {\n",
       "        text-align: right;\n",
       "    }\n",
       "</style>\n",
       "<table border=\"1\" class=\"dataframe\">\n",
       "  <thead>\n",
       "    <tr style=\"text-align: right;\">\n",
       "      <th></th>\n",
       "      <th>Rk</th>\n",
       "      <th>Player</th>\n",
       "      <th>From</th>\n",
       "      <th>To</th>\n",
       "      <th>No. of Season</th>\n",
       "      <th>Tm</th>\n",
       "      <th>Lg</th>\n",
       "      <th>G</th>\n",
       "      <th>GS</th>\n",
       "      <th>Cmp</th>\n",
       "      <th>...</th>\n",
       "      <th>Yds.1</th>\n",
       "      <th>Y/A</th>\n",
       "      <th>AY/A</th>\n",
       "      <th>ANY/A</th>\n",
       "      <th>Y/G</th>\n",
       "      <th>W</th>\n",
       "      <th>L</th>\n",
       "      <th>T</th>\n",
       "      <th>4QC</th>\n",
       "      <th>GWD</th>\n",
       "    </tr>\n",
       "  </thead>\n",
       "  <tbody>\n",
       "    <tr>\n",
       "      <th>0</th>\n",
       "      <td>1</td>\n",
       "      <td>Peyton Manning</td>\n",
       "      <td>1998</td>\n",
       "      <td>2015</td>\n",
       "      <td>18</td>\n",
       "      <td>TOT</td>\n",
       "      <td>NFL</td>\n",
       "      <td>266.0</td>\n",
       "      <td>265.0</td>\n",
       "      <td>6125</td>\n",
       "      <td>...</td>\n",
       "      <td>1953</td>\n",
       "      <td>7.67</td>\n",
       "      <td>7.61</td>\n",
       "      <td>7.17</td>\n",
       "      <td>270.5</td>\n",
       "      <td>186.0</td>\n",
       "      <td>79.0</td>\n",
       "      <td>0.0</td>\n",
       "      <td>43.0</td>\n",
       "      <td>54.0</td>\n",
       "    </tr>\n",
       "    <tr>\n",
       "      <th>3</th>\n",
       "      <td>4</td>\n",
       "      <td>Brett Favre*</td>\n",
       "      <td>1991</td>\n",
       "      <td>2010</td>\n",
       "      <td>20</td>\n",
       "      <td>TOT</td>\n",
       "      <td>NFL</td>\n",
       "      <td>302.0</td>\n",
       "      <td>298.0</td>\n",
       "      <td>6300</td>\n",
       "      <td>...</td>\n",
       "      <td>3487</td>\n",
       "      <td>7.06</td>\n",
       "      <td>6.58</td>\n",
       "      <td>5.93</td>\n",
       "      <td>237.9</td>\n",
       "      <td>186.0</td>\n",
       "      <td>112.0</td>\n",
       "      <td>0.0</td>\n",
       "      <td>28.0</td>\n",
       "      <td>43.0</td>\n",
       "    </tr>\n",
       "    <tr>\n",
       "      <th>9</th>\n",
       "      <td>10</td>\n",
       "      <td>Carson Palmer</td>\n",
       "      <td>2004</td>\n",
       "      <td>2017</td>\n",
       "      <td>14</td>\n",
       "      <td>TOT</td>\n",
       "      <td>NFL</td>\n",
       "      <td>182.0</td>\n",
       "      <td>181.0</td>\n",
       "      <td>3941</td>\n",
       "      <td>...</td>\n",
       "      <td>2364</td>\n",
       "      <td>7.33</td>\n",
       "      <td>6.93</td>\n",
       "      <td>6.22</td>\n",
       "      <td>254.1</td>\n",
       "      <td>92.0</td>\n",
       "      <td>88.0</td>\n",
       "      <td>1.0</td>\n",
       "      <td>22.0</td>\n",
       "      <td>35.0</td>\n",
       "    </tr>\n",
       "    <tr>\n",
       "      <th>10</th>\n",
       "      <td>11</td>\n",
       "      <td>Vinny Testaverde</td>\n",
       "      <td>1989</td>\n",
       "      <td>2007</td>\n",
       "      <td>19</td>\n",
       "      <td>TOT</td>\n",
       "      <td>NFL</td>\n",
       "      <td>212.0</td>\n",
       "      <td>195.0</td>\n",
       "      <td>3494</td>\n",
       "      <td>...</td>\n",
       "      <td>2560</td>\n",
       "      <td>6.90</td>\n",
       "      <td>6.08</td>\n",
       "      <td>5.33</td>\n",
       "      <td>197.7</td>\n",
       "      <td>85.0</td>\n",
       "      <td>109.0</td>\n",
       "      <td>1.0</td>\n",
       "      <td>27.0</td>\n",
       "      <td>30.0</td>\n",
       "    </tr>\n",
       "    <tr>\n",
       "      <th>11</th>\n",
       "      <td>12</td>\n",
       "      <td>Drew Bledsoe</td>\n",
       "      <td>1993</td>\n",
       "      <td>2006</td>\n",
       "      <td>14</td>\n",
       "      <td>TOT</td>\n",
       "      <td>NFL</td>\n",
       "      <td>194.0</td>\n",
       "      <td>193.0</td>\n",
       "      <td>3839</td>\n",
       "      <td>...</td>\n",
       "      <td>3135</td>\n",
       "      <td>6.64</td>\n",
       "      <td>6.01</td>\n",
       "      <td>5.18</td>\n",
       "      <td>230.0</td>\n",
       "      <td>98.0</td>\n",
       "      <td>95.0</td>\n",
       "      <td>0.0</td>\n",
       "      <td>24.0</td>\n",
       "      <td>31.0</td>\n",
       "    </tr>\n",
       "  </tbody>\n",
       "</table>\n",
       "<p>5 rows × 30 columns</p>\n",
       "</div>"
      ],
      "text/plain": [
       "    Rk            Player  From    To  No. of Season   Tm   Lg      G     GS  \\\n",
       "0    1    Peyton Manning  1998  2015             18  TOT  NFL  266.0  265.0   \n",
       "3    4      Brett Favre*  1991  2010             20  TOT  NFL  302.0  298.0   \n",
       "9   10     Carson Palmer  2004  2017             14  TOT  NFL  182.0  181.0   \n",
       "10  11  Vinny Testaverde  1989  2007             19  TOT  NFL  212.0  195.0   \n",
       "11  12      Drew Bledsoe  1993  2006             14  TOT  NFL  194.0  193.0   \n",
       "\n",
       "     Cmp  ...  Yds.1   Y/A  AY/A  ANY/A    Y/G      W      L    T   4QC   GWD  \n",
       "0   6125  ...   1953  7.67  7.61   7.17  270.5  186.0   79.0  0.0  43.0  54.0  \n",
       "3   6300  ...   3487  7.06  6.58   5.93  237.9  186.0  112.0  0.0  28.0  43.0  \n",
       "9   3941  ...   2364  7.33  6.93   6.22  254.1   92.0   88.0  1.0  22.0  35.0  \n",
       "10  3494  ...   2560  6.90  6.08   5.33  197.7   85.0  109.0  1.0  27.0  30.0  \n",
       "11  3839  ...   3135  6.64  6.01   5.18  230.0   98.0   95.0  0.0  24.0  31.0  \n",
       "\n",
       "[5 rows x 30 columns]"
      ]
     },
     "execution_count": 17,
     "metadata": {},
     "output_type": "execute_result"
    }
   ],
   "source": [
    "filtered_column =nfl_data_df[nfl_data_df['To']!=2019]\n",
    "filtered_column.head()"
   ]
  },
  {
   "cell_type": "code",
   "execution_count": 18,
   "metadata": {},
   "outputs": [
    {
     "data": {
      "text/html": [
       "<div>\n",
       "<style scoped>\n",
       "    .dataframe tbody tr th:only-of-type {\n",
       "        vertical-align: middle;\n",
       "    }\n",
       "\n",
       "    .dataframe tbody tr th {\n",
       "        vertical-align: top;\n",
       "    }\n",
       "\n",
       "    .dataframe thead th {\n",
       "        text-align: right;\n",
       "    }\n",
       "</style>\n",
       "<table border=\"1\" class=\"dataframe\">\n",
       "  <thead>\n",
       "    <tr style=\"text-align: right;\">\n",
       "      <th></th>\n",
       "      <th>Rk</th>\n",
       "      <th>Player</th>\n",
       "      <th>No. of Season</th>\n",
       "    </tr>\n",
       "  </thead>\n",
       "  <tbody>\n",
       "    <tr>\n",
       "      <th>0</th>\n",
       "      <td>1</td>\n",
       "      <td>Peyton Manning</td>\n",
       "      <td>18</td>\n",
       "    </tr>\n",
       "    <tr>\n",
       "      <th>1</th>\n",
       "      <td>4</td>\n",
       "      <td>Brett Favre*</td>\n",
       "      <td>20</td>\n",
       "    </tr>\n",
       "    <tr>\n",
       "      <th>2</th>\n",
       "      <td>10</td>\n",
       "      <td>Carson Palmer</td>\n",
       "      <td>14</td>\n",
       "    </tr>\n",
       "    <tr>\n",
       "      <th>3</th>\n",
       "      <td>11</td>\n",
       "      <td>Vinny Testaverde</td>\n",
       "      <td>19</td>\n",
       "    </tr>\n",
       "    <tr>\n",
       "      <th>4</th>\n",
       "      <td>12</td>\n",
       "      <td>Drew Bledsoe</td>\n",
       "      <td>14</td>\n",
       "    </tr>\n",
       "  </tbody>\n",
       "</table>\n",
       "</div>"
      ],
      "text/plain": [
       "   Rk            Player  No. of Season\n",
       "0   1    Peyton Manning             18\n",
       "1   4      Brett Favre*             20\n",
       "2  10     Carson Palmer             14\n",
       "3  11  Vinny Testaverde             19\n",
       "4  12      Drew Bledsoe             14"
      ]
     },
     "execution_count": 18,
     "metadata": {},
     "output_type": "execute_result"
    }
   ],
   "source": [
    "trial_data = filtered_column[['Rk', 'Player', 'No. of Season']]\n",
    "\n",
    "# Convert to DataFrame\n",
    "\n",
    "mean_data =trial_data.groupby(['Rk', 'Player'], as_index = False)['No. of Season'].mean()\n",
    "players_season_data = pd.DataFrame(mean_data)\n",
    "\n",
    "# Preview DataFrame\n",
    "\n",
    "players_season_data.head()"
   ]
  },
  {
   "cell_type": "code",
   "execution_count": 19,
   "metadata": {},
   "outputs": [
    {
     "data": {
      "text/plain": [
       "4.43"
      ]
     },
     "execution_count": 19,
     "metadata": {},
     "output_type": "execute_result"
    }
   ],
   "source": [
    "std_value_qb = round(players_season_data['No. of Season'].std(),2)\n",
    "std_value_qb"
   ]
  },
  {
   "cell_type": "code",
   "execution_count": 20,
   "metadata": {},
   "outputs": [
    {
     "data": {
      "text/plain": [
       "5.784653465346534"
      ]
     },
     "execution_count": 20,
     "metadata": {},
     "output_type": "execute_result"
    }
   ],
   "source": [
    "mean_value_qb = players_season_data['No. of Season'].mean()\n",
    "mean_value_qb"
   ]
  },
  {
   "cell_type": "code",
   "execution_count": 21,
   "metadata": {},
   "outputs": [
    {
     "data": {
      "text/plain": [
       "5.0"
      ]
     },
     "execution_count": 21,
     "metadata": {},
     "output_type": "execute_result"
    }
   ],
   "source": [
    "median_value_qb = players_season_data['No. of Season'].median()\n",
    "median_value_qb"
   ]
  },
  {
   "cell_type": "code",
   "execution_count": 22,
   "metadata": {},
   "outputs": [
    {
     "name": "stdout",
     "output_type": "stream",
     "text": [
      "Q1 is 2.0\n",
      "Q3 is 9.0\n"
     ]
    }
   ],
   "source": [
    "# Use numpy to create quartiles\n",
    "qb_q1 = np.percentile(players_season_data['No. of Season'], 25)\n",
    "qb_q3 = np.percentile(players_season_data['No. of Season'],75)\n",
    "print(f\"Q1 is {qb_q1}\")\n",
    "print(f\"Q3 is {qb_q3}\")"
   ]
  },
  {
   "cell_type": "code",
   "execution_count": 23,
   "metadata": {},
   "outputs": [
    {
     "name": "stdout",
     "output_type": "stream",
     "text": [
      "interquartile range: 7.0\n"
     ]
    }
   ],
   "source": [
    "# Calculate the interquartile range\n",
    "iqr = (qb_q3 - qb_q1)\n",
    "print(\"interquartile range:\", iqr)"
   ]
  },
  {
   "cell_type": "code",
   "execution_count": 24,
   "metadata": {},
   "outputs": [
    {
     "data": {
      "text/plain": [
       "-8.5"
      ]
     },
     "execution_count": 24,
     "metadata": {},
     "output_type": "execute_result"
    }
   ],
   "source": [
    "# Find lower boundary\n",
    "# Q1 - 1.5 * IQR\n",
    "lower_boundary = qb_q1 - (1.5 * iqr)\n",
    "lower_boundary"
   ]
  },
  {
   "cell_type": "code",
   "execution_count": 25,
   "metadata": {},
   "outputs": [
    {
     "data": {
      "text/plain": [
       "19.5"
      ]
     },
     "execution_count": 25,
     "metadata": {},
     "output_type": "execute_result"
    }
   ],
   "source": [
    "# Find upper boundary\n",
    "# Q3 + 1.5 * IQR\n",
    "upper_boundary = qb_q3 + (1.5 * iqr)\n",
    "upper_boundary"
   ]
  },
  {
   "cell_type": "code",
   "execution_count": 26,
   "metadata": {},
   "outputs": [],
   "source": [
    "# Check for any lower outliers\n",
    "arr = players_season_data['No. of Season']\n",
    "# Check for any upper outliers"
   ]
  },
  {
   "cell_type": "code",
   "execution_count": 27,
   "metadata": {},
   "outputs": [
    {
     "data": {
      "text/plain": [
       "1    20\n",
       "Name: No. of Season, dtype: int64"
      ]
     },
     "execution_count": 27,
     "metadata": {},
     "output_type": "execute_result"
    }
   ],
   "source": [
    "# Check for any upper outliers\n",
    "arr[arr >= upper_boundary]"
   ]
  },
  {
   "cell_type": "code",
   "execution_count": 28,
   "metadata": {},
   "outputs": [
    {
     "data": {
      "text/html": [
       "<div>\n",
       "<style scoped>\n",
       "    .dataframe tbody tr th:only-of-type {\n",
       "        vertical-align: middle;\n",
       "    }\n",
       "\n",
       "    .dataframe tbody tr th {\n",
       "        vertical-align: top;\n",
       "    }\n",
       "\n",
       "    .dataframe thead th {\n",
       "        text-align: right;\n",
       "    }\n",
       "</style>\n",
       "<table border=\"1\" class=\"dataframe\">\n",
       "  <thead>\n",
       "    <tr style=\"text-align: right;\">\n",
       "      <th></th>\n",
       "      <th>Rk</th>\n",
       "      <th>Player</th>\n",
       "      <th>From</th>\n",
       "      <th>To</th>\n",
       "      <th>No. of Season</th>\n",
       "      <th>Tm</th>\n",
       "      <th>Lg</th>\n",
       "      <th>G</th>\n",
       "      <th>GS</th>\n",
       "      <th>Cmp</th>\n",
       "      <th>...</th>\n",
       "      <th>Yds.1</th>\n",
       "      <th>Y/A</th>\n",
       "      <th>AY/A</th>\n",
       "      <th>ANY/A</th>\n",
       "      <th>Y/G</th>\n",
       "      <th>W</th>\n",
       "      <th>L</th>\n",
       "      <th>T</th>\n",
       "      <th>4QC</th>\n",
       "      <th>GWD</th>\n",
       "    </tr>\n",
       "  </thead>\n",
       "  <tbody>\n",
       "    <tr>\n",
       "      <th>1</th>\n",
       "      <td>2</td>\n",
       "      <td>Tom Brady</td>\n",
       "      <td>2000</td>\n",
       "      <td>2019</td>\n",
       "      <td>20</td>\n",
       "      <td>NWE</td>\n",
       "      <td>NFL</td>\n",
       "      <td>273.0</td>\n",
       "      <td>271.0</td>\n",
       "      <td>6094</td>\n",
       "      <td>...</td>\n",
       "      <td>2960</td>\n",
       "      <td>7.52</td>\n",
       "      <td>7.81</td>\n",
       "      <td>7.14</td>\n",
       "      <td>262.2</td>\n",
       "      <td>211.0</td>\n",
       "      <td>60.0</td>\n",
       "      <td>0.0</td>\n",
       "      <td>35.0</td>\n",
       "      <td>44.0</td>\n",
       "    </tr>\n",
       "    <tr>\n",
       "      <th>2</th>\n",
       "      <td>3</td>\n",
       "      <td>Drew Brees</td>\n",
       "      <td>2001</td>\n",
       "      <td>2019</td>\n",
       "      <td>19</td>\n",
       "      <td>TOT</td>\n",
       "      <td>NFL</td>\n",
       "      <td>266.0</td>\n",
       "      <td>265.0</td>\n",
       "      <td>6621</td>\n",
       "      <td>...</td>\n",
       "      <td>2821</td>\n",
       "      <td>7.61</td>\n",
       "      <td>7.60</td>\n",
       "      <td>7.03</td>\n",
       "      <td>281.4</td>\n",
       "      <td>156.0</td>\n",
       "      <td>109.0</td>\n",
       "      <td>0.0</td>\n",
       "      <td>35.0</td>\n",
       "      <td>49.0</td>\n",
       "    </tr>\n",
       "    <tr>\n",
       "      <th>4</th>\n",
       "      <td>5</td>\n",
       "      <td>Philip Rivers</td>\n",
       "      <td>2004</td>\n",
       "      <td>2019</td>\n",
       "      <td>16</td>\n",
       "      <td>SDG</td>\n",
       "      <td>NFL</td>\n",
       "      <td>216.0</td>\n",
       "      <td>212.0</td>\n",
       "      <td>4619</td>\n",
       "      <td>...</td>\n",
       "      <td>2552</td>\n",
       "      <td>7.82</td>\n",
       "      <td>7.76</td>\n",
       "      <td>6.99</td>\n",
       "      <td>258.8</td>\n",
       "      <td>120.0</td>\n",
       "      <td>92.0</td>\n",
       "      <td>0.0</td>\n",
       "      <td>26.0</td>\n",
       "      <td>31.0</td>\n",
       "    </tr>\n",
       "    <tr>\n",
       "      <th>5</th>\n",
       "      <td>6</td>\n",
       "      <td>Ben Roethlisberger</td>\n",
       "      <td>2004</td>\n",
       "      <td>2019</td>\n",
       "      <td>16</td>\n",
       "      <td>PIT</td>\n",
       "      <td>NFL</td>\n",
       "      <td>218.0</td>\n",
       "      <td>216.0</td>\n",
       "      <td>4651</td>\n",
       "      <td>...</td>\n",
       "      <td>3320</td>\n",
       "      <td>7.82</td>\n",
       "      <td>7.64</td>\n",
       "      <td>6.71</td>\n",
       "      <td>259.4</td>\n",
       "      <td>144.0</td>\n",
       "      <td>71.0</td>\n",
       "      <td>1.0</td>\n",
       "      <td>31.0</td>\n",
       "      <td>42.0</td>\n",
       "    </tr>\n",
       "    <tr>\n",
       "      <th>6</th>\n",
       "      <td>7</td>\n",
       "      <td>Eli Manning</td>\n",
       "      <td>2004</td>\n",
       "      <td>2019</td>\n",
       "      <td>16</td>\n",
       "      <td>NYG</td>\n",
       "      <td>NFL</td>\n",
       "      <td>234.0</td>\n",
       "      <td>232.0</td>\n",
       "      <td>4860</td>\n",
       "      <td>...</td>\n",
       "      <td>2839</td>\n",
       "      <td>7.01</td>\n",
       "      <td>6.57</td>\n",
       "      <td>5.91</td>\n",
       "      <td>241.6</td>\n",
       "      <td>116.0</td>\n",
       "      <td>116.0</td>\n",
       "      <td>0.0</td>\n",
       "      <td>27.0</td>\n",
       "      <td>37.0</td>\n",
       "    </tr>\n",
       "  </tbody>\n",
       "</table>\n",
       "<p>5 rows × 30 columns</p>\n",
       "</div>"
      ],
      "text/plain": [
       "   Rk              Player  From    To  No. of Season   Tm   Lg      G     GS  \\\n",
       "1   2           Tom Brady  2000  2019             20  NWE  NFL  273.0  271.0   \n",
       "2   3          Drew Brees  2001  2019             19  TOT  NFL  266.0  265.0   \n",
       "4   5       Philip Rivers  2004  2019             16  SDG  NFL  216.0  212.0   \n",
       "5   6  Ben Roethlisberger  2004  2019             16  PIT  NFL  218.0  216.0   \n",
       "6   7         Eli Manning  2004  2019             16  NYG  NFL  234.0  232.0   \n",
       "\n",
       "    Cmp  ...  Yds.1   Y/A  AY/A  ANY/A    Y/G      W      L    T   4QC   GWD  \n",
       "1  6094  ...   2960  7.52  7.81   7.14  262.2  211.0   60.0  0.0  35.0  44.0  \n",
       "2  6621  ...   2821  7.61  7.60   7.03  281.4  156.0  109.0  0.0  35.0  49.0  \n",
       "4  4619  ...   2552  7.82  7.76   6.99  258.8  120.0   92.0  0.0  26.0  31.0  \n",
       "5  4651  ...   3320  7.82  7.64   6.71  259.4  144.0   71.0  1.0  31.0  42.0  \n",
       "6  4860  ...   2839  7.01  6.57   5.91  241.6  116.0  116.0  0.0  27.0  37.0  \n",
       "\n",
       "[5 rows x 30 columns]"
      ]
     },
     "execution_count": 28,
     "metadata": {},
     "output_type": "execute_result"
    }
   ],
   "source": [
    "current_players =nfl_data_df.loc[nfl_data_df['To']==2019]\n",
    "current_players\n",
    "filtered_players = current_players[current_players['Yds'] >= 10000]\n",
    "filtered_players.head()\n"
   ]
  },
  {
   "cell_type": "code",
   "execution_count": 29,
   "metadata": {},
   "outputs": [
    {
     "data": {
      "text/html": [
       "<div>\n",
       "<style scoped>\n",
       "    .dataframe tbody tr th:only-of-type {\n",
       "        vertical-align: middle;\n",
       "    }\n",
       "\n",
       "    .dataframe tbody tr th {\n",
       "        vertical-align: top;\n",
       "    }\n",
       "\n",
       "    .dataframe thead th {\n",
       "        text-align: right;\n",
       "    }\n",
       "</style>\n",
       "<table border=\"1\" class=\"dataframe\">\n",
       "  <thead>\n",
       "    <tr style=\"text-align: right;\">\n",
       "      <th></th>\n",
       "      <th>Rk</th>\n",
       "      <th>Player</th>\n",
       "      <th>From</th>\n",
       "      <th>To</th>\n",
       "      <th>No. of Season</th>\n",
       "      <th>Tm</th>\n",
       "      <th>Lg</th>\n",
       "      <th>G</th>\n",
       "      <th>GS</th>\n",
       "      <th>Cmp</th>\n",
       "      <th>...</th>\n",
       "      <th>Y/A</th>\n",
       "      <th>AY/A</th>\n",
       "      <th>ANY/A</th>\n",
       "      <th>Y/G</th>\n",
       "      <th>W</th>\n",
       "      <th>L</th>\n",
       "      <th>T</th>\n",
       "      <th>4QC</th>\n",
       "      <th>GWD</th>\n",
       "      <th>hof</th>\n",
       "    </tr>\n",
       "  </thead>\n",
       "  <tbody>\n",
       "    <tr>\n",
       "      <th>3</th>\n",
       "      <td>4</td>\n",
       "      <td>Brett Favre*</td>\n",
       "      <td>1991</td>\n",
       "      <td>2010</td>\n",
       "      <td>20</td>\n",
       "      <td>TOT</td>\n",
       "      <td>NFL</td>\n",
       "      <td>302.0</td>\n",
       "      <td>298.0</td>\n",
       "      <td>6300</td>\n",
       "      <td>...</td>\n",
       "      <td>7.06</td>\n",
       "      <td>6.58</td>\n",
       "      <td>5.93</td>\n",
       "      <td>237.9</td>\n",
       "      <td>186.0</td>\n",
       "      <td>112.0</td>\n",
       "      <td>0.0</td>\n",
       "      <td>28.0</td>\n",
       "      <td>43.0</td>\n",
       "      <td>1.0</td>\n",
       "    </tr>\n",
       "    <tr>\n",
       "      <th>16</th>\n",
       "      <td>17</td>\n",
       "      <td>Dan Marino*</td>\n",
       "      <td>1989</td>\n",
       "      <td>1999</td>\n",
       "      <td>11</td>\n",
       "      <td>MIA</td>\n",
       "      <td>NFL</td>\n",
       "      <td>155.0</td>\n",
       "      <td>155.0</td>\n",
       "      <td>3101</td>\n",
       "      <td>...</td>\n",
       "      <td>7.13</td>\n",
       "      <td>6.71</td>\n",
       "      <td>6.22</td>\n",
       "      <td>242.0</td>\n",
       "      <td>93.0</td>\n",
       "      <td>62.0</td>\n",
       "      <td>0.0</td>\n",
       "      <td>23.0</td>\n",
       "      <td>31.0</td>\n",
       "      <td>1.0</td>\n",
       "    </tr>\n",
       "    <tr>\n",
       "      <th>18</th>\n",
       "      <td>19</td>\n",
       "      <td>Warren Moon*</td>\n",
       "      <td>1989</td>\n",
       "      <td>2000</td>\n",
       "      <td>12</td>\n",
       "      <td>TOT</td>\n",
       "      <td>NFL</td>\n",
       "      <td>140.0</td>\n",
       "      <td>135.0</td>\n",
       "      <td>2929</td>\n",
       "      <td>...</td>\n",
       "      <td>7.15</td>\n",
       "      <td>6.66</td>\n",
       "      <td>5.89</td>\n",
       "      <td>247.5</td>\n",
       "      <td>76.0</td>\n",
       "      <td>59.0</td>\n",
       "      <td>0.0</td>\n",
       "      <td>18.0</td>\n",
       "      <td>26.0</td>\n",
       "      <td>1.0</td>\n",
       "    </tr>\n",
       "    <tr>\n",
       "      <th>21</th>\n",
       "      <td>22</td>\n",
       "      <td>Kurt Warner*</td>\n",
       "      <td>1998</td>\n",
       "      <td>2009</td>\n",
       "      <td>12</td>\n",
       "      <td>TOT</td>\n",
       "      <td>NFL</td>\n",
       "      <td>124.0</td>\n",
       "      <td>116.0</td>\n",
       "      <td>2666</td>\n",
       "      <td>...</td>\n",
       "      <td>7.95</td>\n",
       "      <td>7.55</td>\n",
       "      <td>6.71</td>\n",
       "      <td>260.8</td>\n",
       "      <td>67.0</td>\n",
       "      <td>49.0</td>\n",
       "      <td>0.0</td>\n",
       "      <td>7.0</td>\n",
       "      <td>11.0</td>\n",
       "      <td>1.0</td>\n",
       "    </tr>\n",
       "    <tr>\n",
       "      <th>22</th>\n",
       "      <td>23</td>\n",
       "      <td>Steve Young*</td>\n",
       "      <td>1989</td>\n",
       "      <td>1999</td>\n",
       "      <td>11</td>\n",
       "      <td>SFO</td>\n",
       "      <td>NFL</td>\n",
       "      <td>131.0</td>\n",
       "      <td>118.0</td>\n",
       "      <td>2309</td>\n",
       "      <td>...</td>\n",
       "      <td>8.24</td>\n",
       "      <td>8.36</td>\n",
       "      <td>7.36</td>\n",
       "      <td>218.8</td>\n",
       "      <td>87.0</td>\n",
       "      <td>31.0</td>\n",
       "      <td>0.0</td>\n",
       "      <td>11.0</td>\n",
       "      <td>14.0</td>\n",
       "      <td>1.0</td>\n",
       "    </tr>\n",
       "    <tr>\n",
       "      <th>24</th>\n",
       "      <td>25</td>\n",
       "      <td>John Elway*</td>\n",
       "      <td>1989</td>\n",
       "      <td>1998</td>\n",
       "      <td>10</td>\n",
       "      <td>DEN</td>\n",
       "      <td>NFL</td>\n",
       "      <td>149.0</td>\n",
       "      <td>148.0</td>\n",
       "      <td>2681</td>\n",
       "      <td>...</td>\n",
       "      <td>7.25</td>\n",
       "      <td>6.84</td>\n",
       "      <td>5.86</td>\n",
       "      <td>223.7</td>\n",
       "      <td>94.0</td>\n",
       "      <td>54.0</td>\n",
       "      <td>0.0</td>\n",
       "      <td>17.0</td>\n",
       "      <td>27.0</td>\n",
       "      <td>1.0</td>\n",
       "    </tr>\n",
       "    <tr>\n",
       "      <th>30</th>\n",
       "      <td>31</td>\n",
       "      <td>Jim Kelly*</td>\n",
       "      <td>1989</td>\n",
       "      <td>1996</td>\n",
       "      <td>8</td>\n",
       "      <td>BUF</td>\n",
       "      <td>NFL</td>\n",
       "      <td>116.0</td>\n",
       "      <td>116.0</td>\n",
       "      <td>2070</td>\n",
       "      <td>...</td>\n",
       "      <td>7.50</td>\n",
       "      <td>6.85</td>\n",
       "      <td>5.98</td>\n",
       "      <td>221.5</td>\n",
       "      <td>79.0</td>\n",
       "      <td>37.0</td>\n",
       "      <td>0.0</td>\n",
       "      <td>16.0</td>\n",
       "      <td>21.0</td>\n",
       "      <td>1.0</td>\n",
       "    </tr>\n",
       "    <tr>\n",
       "      <th>36</th>\n",
       "      <td>37</td>\n",
       "      <td>Troy Aikman*</td>\n",
       "      <td>1989</td>\n",
       "      <td>2000</td>\n",
       "      <td>12</td>\n",
       "      <td>DAL</td>\n",
       "      <td>NFL</td>\n",
       "      <td>165.0</td>\n",
       "      <td>165.0</td>\n",
       "      <td>2898</td>\n",
       "      <td>...</td>\n",
       "      <td>6.99</td>\n",
       "      <td>6.34</td>\n",
       "      <td>5.66</td>\n",
       "      <td>199.6</td>\n",
       "      <td>94.0</td>\n",
       "      <td>71.0</td>\n",
       "      <td>0.0</td>\n",
       "      <td>15.0</td>\n",
       "      <td>20.0</td>\n",
       "      <td>1.0</td>\n",
       "    </tr>\n",
       "    <tr>\n",
       "      <th>80</th>\n",
       "      <td>81</td>\n",
       "      <td>Joe Montana*</td>\n",
       "      <td>1989</td>\n",
       "      <td>1994</td>\n",
       "      <td>6</td>\n",
       "      <td>TOT</td>\n",
       "      <td>NFL</td>\n",
       "      <td>54.0</td>\n",
       "      <td>53.0</td>\n",
       "      <td>1087</td>\n",
       "      <td>...</td>\n",
       "      <td>7.58</td>\n",
       "      <td>7.50</td>\n",
       "      <td>6.80</td>\n",
       "      <td>241.1</td>\n",
       "      <td>42.0</td>\n",
       "      <td>11.0</td>\n",
       "      <td>0.0</td>\n",
       "      <td>10.0</td>\n",
       "      <td>13.0</td>\n",
       "      <td>1.0</td>\n",
       "    </tr>\n",
       "  </tbody>\n",
       "</table>\n",
       "<p>9 rows × 31 columns</p>\n",
       "</div>"
      ],
      "text/plain": [
       "    Rk        Player  From    To  No. of Season   Tm   Lg      G     GS   Cmp  \\\n",
       "3    4  Brett Favre*  1991  2010             20  TOT  NFL  302.0  298.0  6300   \n",
       "16  17   Dan Marino*  1989  1999             11  MIA  NFL  155.0  155.0  3101   \n",
       "18  19  Warren Moon*  1989  2000             12  TOT  NFL  140.0  135.0  2929   \n",
       "21  22  Kurt Warner*  1998  2009             12  TOT  NFL  124.0  116.0  2666   \n",
       "22  23  Steve Young*  1989  1999             11  SFO  NFL  131.0  118.0  2309   \n",
       "24  25   John Elway*  1989  1998             10  DEN  NFL  149.0  148.0  2681   \n",
       "30  31    Jim Kelly*  1989  1996              8  BUF  NFL  116.0  116.0  2070   \n",
       "36  37  Troy Aikman*  1989  2000             12  DAL  NFL  165.0  165.0  2898   \n",
       "80  81  Joe Montana*  1989  1994              6  TOT  NFL   54.0   53.0  1087   \n",
       "\n",
       "    ...   Y/A  AY/A  ANY/A    Y/G      W      L    T   4QC   GWD  hof  \n",
       "3   ...  7.06  6.58   5.93  237.9  186.0  112.0  0.0  28.0  43.0  1.0  \n",
       "16  ...  7.13  6.71   6.22  242.0   93.0   62.0  0.0  23.0  31.0  1.0  \n",
       "18  ...  7.15  6.66   5.89  247.5   76.0   59.0  0.0  18.0  26.0  1.0  \n",
       "21  ...  7.95  7.55   6.71  260.8   67.0   49.0  0.0   7.0  11.0  1.0  \n",
       "22  ...  8.24  8.36   7.36  218.8   87.0   31.0  0.0  11.0  14.0  1.0  \n",
       "24  ...  7.25  6.84   5.86  223.7   94.0   54.0  0.0  17.0  27.0  1.0  \n",
       "30  ...  7.50  6.85   5.98  221.5   79.0   37.0  0.0  16.0  21.0  1.0  \n",
       "36  ...  6.99  6.34   5.66  199.6   94.0   71.0  0.0  15.0  20.0  1.0  \n",
       "80  ...  7.58  7.50   6.80  241.1   42.0   11.0  0.0  10.0  13.0  1.0  \n",
       "\n",
       "[9 rows x 31 columns]"
      ]
     },
     "execution_count": 29,
     "metadata": {},
     "output_type": "execute_result"
    }
   ],
   "source": [
    "\n",
    "for row in range(nfl_data_df.shape[0]):\n",
    "   if nfl_data_df.loc[row,'Player'][-1] == '*':\n",
    "       nfl_data_df.loc[row,'hof'] = 1\n",
    "   else:\n",
    "       nfl_data_df.loc[row,'hof'] = 0\n",
    "nfl_data_df\n",
    "test_data = nfl_data_df[nfl_data_df['hof']==1]\n",
    "test_data"
   ]
  },
  {
   "cell_type": "code",
   "execution_count": 70,
   "metadata": {},
   "outputs": [
    {
     "data": {
      "image/png": "[encoded data removed]",
      "text/plain": [
       "<Figure size 432x288 with 1 Axes>"
      ]
     },
     "metadata": {
      "needs_background": "light"
     },
     "output_type": "display_data"
    }
   ],
   "source": [
    "plt.scatter(filtered_players['No. of Season'],filtered_players['Yds'],s = filtered_players['TD'],marker=\"o\",facecolors=\"green\",alpha=0.75)\n",
    "plt.scatter(test_data['No. of Season'],test_data['Yds'],s = test_data['TD'], marker=\"d\",facecolors=\"red\",alpha=1)\n",
    "plt.xticks(rotation=\"vertical\")\n",
    "# plt.xlim(3,20.5)\n",
    "# plt.ylim(8000, 71000)\n",
    "plt.grid()\n",
    "plt.tight_layout()\n",
    "plt.show()\n"
   ]
  },
  {
   "cell_type": "markdown",
   "metadata": {},
   "source": [
    "### Running Back players Data  1989 - 2019###"
   ]
  },
  {
   "cell_type": "code",
   "execution_count": 31,
   "metadata": {},
   "outputs": [
    {
     "data": {
      "text/html": [
       "<div>\n",
       "<style scoped>\n",
       "    .dataframe tbody tr th:only-of-type {\n",
       "        vertical-align: middle;\n",
       "    }\n",
       "\n",
       "    .dataframe tbody tr th {\n",
       "        vertical-align: top;\n",
       "    }\n",
       "\n",
       "    .dataframe thead th {\n",
       "        text-align: right;\n",
       "    }\n",
       "</style>\n",
       "<table border=\"1\" class=\"dataframe\">\n",
       "  <thead>\n",
       "    <tr style=\"text-align: right;\">\n",
       "      <th></th>\n",
       "      <th>Rk</th>\n",
       "      <th>Player</th>\n",
       "      <th>From</th>\n",
       "      <th>To</th>\n",
       "      <th>No of Season</th>\n",
       "      <th>Tm</th>\n",
       "      <th>Lg</th>\n",
       "      <th>G</th>\n",
       "      <th>GS</th>\n",
       "      <th>Att</th>\n",
       "      <th>Yds</th>\n",
       "      <th>Y/A</th>\n",
       "      <th>TD</th>\n",
       "      <th>Y/G</th>\n",
       "    </tr>\n",
       "  </thead>\n",
       "  <tbody>\n",
       "    <tr>\n",
       "      <th>0</th>\n",
       "      <td>1</td>\n",
       "      <td>Emmitt Smith*</td>\n",
       "      <td>1990</td>\n",
       "      <td>2004</td>\n",
       "      <td>15</td>\n",
       "      <td>TOT</td>\n",
       "      <td>NFL</td>\n",
       "      <td>226.0</td>\n",
       "      <td>219.0</td>\n",
       "      <td>4409</td>\n",
       "      <td>18355</td>\n",
       "      <td>4.16</td>\n",
       "      <td>164</td>\n",
       "      <td>81.2</td>\n",
       "    </tr>\n",
       "    <tr>\n",
       "      <th>1</th>\n",
       "      <td>2</td>\n",
       "      <td>Barry Sanders*</td>\n",
       "      <td>1989</td>\n",
       "      <td>1998</td>\n",
       "      <td>10</td>\n",
       "      <td>DET</td>\n",
       "      <td>NFL</td>\n",
       "      <td>153.0</td>\n",
       "      <td>151.0</td>\n",
       "      <td>3062</td>\n",
       "      <td>15269</td>\n",
       "      <td>4.99</td>\n",
       "      <td>99</td>\n",
       "      <td>99.8</td>\n",
       "    </tr>\n",
       "    <tr>\n",
       "      <th>2</th>\n",
       "      <td>3</td>\n",
       "      <td>Frank Gore</td>\n",
       "      <td>2005</td>\n",
       "      <td>2019</td>\n",
       "      <td>15</td>\n",
       "      <td>TOT</td>\n",
       "      <td>NFL</td>\n",
       "      <td>214.0</td>\n",
       "      <td>199.0</td>\n",
       "      <td>3443</td>\n",
       "      <td>15021</td>\n",
       "      <td>4.36</td>\n",
       "      <td>79</td>\n",
       "      <td>70.2</td>\n",
       "    </tr>\n",
       "    <tr>\n",
       "      <th>3</th>\n",
       "      <td>4</td>\n",
       "      <td>Curtis Martin*</td>\n",
       "      <td>1995</td>\n",
       "      <td>2005</td>\n",
       "      <td>11</td>\n",
       "      <td>TOT</td>\n",
       "      <td>NFL</td>\n",
       "      <td>168.0</td>\n",
       "      <td>166.0</td>\n",
       "      <td>3518</td>\n",
       "      <td>14101</td>\n",
       "      <td>4.01</td>\n",
       "      <td>90</td>\n",
       "      <td>83.9</td>\n",
       "    </tr>\n",
       "    <tr>\n",
       "      <th>4</th>\n",
       "      <td>5</td>\n",
       "      <td>LaDainian Tomlinson*</td>\n",
       "      <td>2001</td>\n",
       "      <td>2011</td>\n",
       "      <td>11</td>\n",
       "      <td>TOT</td>\n",
       "      <td>NFL</td>\n",
       "      <td>170.0</td>\n",
       "      <td>155.0</td>\n",
       "      <td>3174</td>\n",
       "      <td>13684</td>\n",
       "      <td>4.31</td>\n",
       "      <td>145</td>\n",
       "      <td>80.5</td>\n",
       "    </tr>\n",
       "  </tbody>\n",
       "</table>\n",
       "</div>"
      ],
      "text/plain": [
       "   Rk                Player  From    To  No of Season   Tm   Lg      G     GS  \\\n",
       "0   1         Emmitt Smith*  1990  2004            15  TOT  NFL  226.0  219.0   \n",
       "1   2        Barry Sanders*  1989  1998            10  DET  NFL  153.0  151.0   \n",
       "2   3            Frank Gore  2005  2019            15  TOT  NFL  214.0  199.0   \n",
       "3   4        Curtis Martin*  1995  2005            11  TOT  NFL  168.0  166.0   \n",
       "4   5  LaDainian Tomlinson*  2001  2011            11  TOT  NFL  170.0  155.0   \n",
       "\n",
       "    Att    Yds   Y/A   TD   Y/G  \n",
       "0  4409  18355  4.16  164  81.2  \n",
       "1  3062  15269  4.99   99  99.8  \n",
       "2  3443  15021  4.36   79  70.2  \n",
       "3  3518  14101  4.01   90  83.9  \n",
       "4  3174  13684  4.31  145  80.5  "
      ]
     },
     "execution_count": 31,
     "metadata": {},
     "output_type": "execute_result"
    }
   ],
   "source": [
    "#  reading running back players data \n",
    "nfl_rb_data_df = pd.read_csv(nfl_rb_file)\n",
    "#  preview Dataframe\n",
    "nfl_rb_data_df.head()"
   ]
  },
  {
   "cell_type": "code",
   "execution_count": 32,
   "metadata": {},
   "outputs": [
    {
     "data": {
      "text/html": [
       "<div>\n",
       "<style scoped>\n",
       "    .dataframe tbody tr th:only-of-type {\n",
       "        vertical-align: middle;\n",
       "    }\n",
       "\n",
       "    .dataframe tbody tr th {\n",
       "        vertical-align: top;\n",
       "    }\n",
       "\n",
       "    .dataframe thead th {\n",
       "        text-align: right;\n",
       "    }\n",
       "</style>\n",
       "<table border=\"1\" class=\"dataframe\">\n",
       "  <thead>\n",
       "    <tr style=\"text-align: right;\">\n",
       "      <th></th>\n",
       "      <th>Rk</th>\n",
       "      <th>Player</th>\n",
       "      <th>From</th>\n",
       "      <th>To</th>\n",
       "      <th>No of Season</th>\n",
       "      <th>Tm</th>\n",
       "      <th>Lg</th>\n",
       "      <th>G</th>\n",
       "      <th>GS</th>\n",
       "      <th>Att</th>\n",
       "      <th>Yds</th>\n",
       "      <th>Y/A</th>\n",
       "      <th>TD</th>\n",
       "      <th>Y/G</th>\n",
       "    </tr>\n",
       "  </thead>\n",
       "  <tbody>\n",
       "    <tr>\n",
       "      <th>0</th>\n",
       "      <td>1</td>\n",
       "      <td>Emmitt Smith*</td>\n",
       "      <td>1990</td>\n",
       "      <td>2004</td>\n",
       "      <td>15</td>\n",
       "      <td>TOT</td>\n",
       "      <td>NFL</td>\n",
       "      <td>226.0</td>\n",
       "      <td>219.0</td>\n",
       "      <td>4409</td>\n",
       "      <td>18355</td>\n",
       "      <td>4.16</td>\n",
       "      <td>164</td>\n",
       "      <td>81.2</td>\n",
       "    </tr>\n",
       "    <tr>\n",
       "      <th>1</th>\n",
       "      <td>2</td>\n",
       "      <td>Barry Sanders*</td>\n",
       "      <td>1989</td>\n",
       "      <td>1998</td>\n",
       "      <td>10</td>\n",
       "      <td>DET</td>\n",
       "      <td>NFL</td>\n",
       "      <td>153.0</td>\n",
       "      <td>151.0</td>\n",
       "      <td>3062</td>\n",
       "      <td>15269</td>\n",
       "      <td>4.99</td>\n",
       "      <td>99</td>\n",
       "      <td>99.8</td>\n",
       "    </tr>\n",
       "    <tr>\n",
       "      <th>3</th>\n",
       "      <td>4</td>\n",
       "      <td>Curtis Martin*</td>\n",
       "      <td>1995</td>\n",
       "      <td>2005</td>\n",
       "      <td>11</td>\n",
       "      <td>TOT</td>\n",
       "      <td>NFL</td>\n",
       "      <td>168.0</td>\n",
       "      <td>166.0</td>\n",
       "      <td>3518</td>\n",
       "      <td>14101</td>\n",
       "      <td>4.01</td>\n",
       "      <td>90</td>\n",
       "      <td>83.9</td>\n",
       "    </tr>\n",
       "    <tr>\n",
       "      <th>4</th>\n",
       "      <td>5</td>\n",
       "      <td>LaDainian Tomlinson*</td>\n",
       "      <td>2001</td>\n",
       "      <td>2011</td>\n",
       "      <td>11</td>\n",
       "      <td>TOT</td>\n",
       "      <td>NFL</td>\n",
       "      <td>170.0</td>\n",
       "      <td>155.0</td>\n",
       "      <td>3174</td>\n",
       "      <td>13684</td>\n",
       "      <td>4.31</td>\n",
       "      <td>145</td>\n",
       "      <td>80.5</td>\n",
       "    </tr>\n",
       "    <tr>\n",
       "      <th>5</th>\n",
       "      <td>6</td>\n",
       "      <td>Jerome Bettis*</td>\n",
       "      <td>1993</td>\n",
       "      <td>2005</td>\n",
       "      <td>13</td>\n",
       "      <td>TOT</td>\n",
       "      <td>NFL</td>\n",
       "      <td>192.0</td>\n",
       "      <td>153.0</td>\n",
       "      <td>3479</td>\n",
       "      <td>13662</td>\n",
       "      <td>3.93</td>\n",
       "      <td>91</td>\n",
       "      <td>71.2</td>\n",
       "    </tr>\n",
       "  </tbody>\n",
       "</table>\n",
       "</div>"
      ],
      "text/plain": [
       "   Rk                Player  From    To  No of Season   Tm   Lg      G     GS  \\\n",
       "0   1         Emmitt Smith*  1990  2004            15  TOT  NFL  226.0  219.0   \n",
       "1   2        Barry Sanders*  1989  1998            10  DET  NFL  153.0  151.0   \n",
       "3   4        Curtis Martin*  1995  2005            11  TOT  NFL  168.0  166.0   \n",
       "4   5  LaDainian Tomlinson*  2001  2011            11  TOT  NFL  170.0  155.0   \n",
       "5   6        Jerome Bettis*  1993  2005            13  TOT  NFL  192.0  153.0   \n",
       "\n",
       "    Att    Yds   Y/A   TD   Y/G  \n",
       "0  4409  18355  4.16  164  81.2  \n",
       "1  3062  15269  4.99   99  99.8  \n",
       "3  3518  14101  4.01   90  83.9  \n",
       "4  3174  13684  4.31  145  80.5  \n",
       "5  3479  13662  3.93   91  71.2  "
      ]
     },
     "execution_count": 32,
     "metadata": {},
     "output_type": "execute_result"
    }
   ],
   "source": [
    "#  dropping currunt players from dataframe column\n",
    "filtered_rb_column =nfl_rb_data_df[nfl_rb_data_df['To']!=2019]\n",
    "filtered_rb_column.head()"
   ]
  },
  {
   "cell_type": "code",
   "execution_count": 33,
   "metadata": {},
   "outputs": [
    {
     "data": {
      "text/plain": [
       "3.1188598661352436"
      ]
     },
     "execution_count": 33,
     "metadata": {},
     "output_type": "execute_result"
    }
   ],
   "source": [
    "# finding staderd deviation of running back players\n",
    "std_rb_value = filtered_rb_column['No of Season'].std()\n",
    "std_rb_value"
   ]
  },
  {
   "cell_type": "code",
   "execution_count": 34,
   "metadata": {},
   "outputs": [
    {
     "data": {
      "text/plain": [
       "4.210815047021944"
      ]
     },
     "execution_count": 34,
     "metadata": {},
     "output_type": "execute_result"
    }
   ],
   "source": [
    "# finding mean of running back players\n",
    "mean_rb_value = filtered_rb_column['No of Season'].mean()\n",
    "mean_rb_value"
   ]
  },
  {
   "cell_type": "code",
   "execution_count": 35,
   "metadata": {},
   "outputs": [
    {
     "data": {
      "text/plain": [
       "3.0"
      ]
     },
     "execution_count": 35,
     "metadata": {},
     "output_type": "execute_result"
    }
   ],
   "source": [
    "# finding median of running back players\n",
    "median_rb_value = filtered_rb_column['No of Season'].median()\n",
    "median_rb_value"
   ]
  },
  {
   "cell_type": "code",
   "execution_count": 36,
   "metadata": {},
   "outputs": [
    {
     "name": "stdout",
     "output_type": "stream",
     "text": [
      "Q1 is 2.0\n",
      "Q3 is 6.0\n"
     ]
    }
   ],
   "source": [
    "# Use numpy to create quartiles\n",
    "rb_q1 = np.percentile(filtered_rb_column['No of Season'], 25)\n",
    "rb_q3 = np.percentile(filtered_rb_column['No of Season'],75)\n",
    "print(f\"Q1 is {rb_q1}\")\n",
    "print(f\"Q3 is {rb_q3}\")"
   ]
  },
  {
   "cell_type": "code",
   "execution_count": 37,
   "metadata": {},
   "outputs": [
    {
     "name": "stdout",
     "output_type": "stream",
     "text": [
      "interquartile range: 4.0\n"
     ]
    }
   ],
   "source": [
    "# Calculate the interquartile range\n",
    "rb_iqr = (rb_q3 - rb_q1)\n",
    "print(\"interquartile range:\", rb_iqr)"
   ]
  },
  {
   "cell_type": "code",
   "execution_count": 38,
   "metadata": {},
   "outputs": [
    {
     "data": {
      "text/plain": [
       "-4.0"
      ]
     },
     "execution_count": 38,
     "metadata": {},
     "output_type": "execute_result"
    }
   ],
   "source": [
    "# Find lower boundary\n",
    "rb_lower_boundary = rb_q1 - (1.5 * rb_iqr)\n",
    "rb_lower_boundary"
   ]
  },
  {
   "cell_type": "code",
   "execution_count": 39,
   "metadata": {},
   "outputs": [
    {
     "data": {
      "text/plain": [
       "12.0"
      ]
     },
     "execution_count": 39,
     "metadata": {},
     "output_type": "execute_result"
    }
   ],
   "source": [
    "# Find upper boundary\n",
    "rb_upper_boundary = rb_q3 + (1.5 * rb_iqr)\n",
    "rb_upper_boundary"
   ]
  },
  {
   "cell_type": "code",
   "execution_count": 40,
   "metadata": {},
   "outputs": [
    {
     "data": {
      "text/plain": [
       "0       15\n",
       "5       13\n",
       "7       12\n",
       "9       13\n",
       "10      12\n",
       "12      12\n",
       "13      12\n",
       "17      12\n",
       "20      12\n",
       "21      13\n",
       "26      12\n",
       "33      12\n",
       "123     13\n",
       "146     12\n",
       "184     14\n",
       "199     14\n",
       "221     14\n",
       "242     16\n",
       "244     13\n",
       "300     12\n",
       "301     16\n",
       "375     14\n",
       "405     16\n",
       "450     12\n",
       "517     12\n",
       "538     12\n",
       "582     12\n",
       "711     14\n",
       "721     13\n",
       "946     13\n",
       "989     13\n",
       "1274    14\n",
       "1319    14\n",
       "Name: No of Season, dtype: int64"
      ]
     },
     "execution_count": 40,
     "metadata": {},
     "output_type": "execute_result"
    }
   ],
   "source": [
    "# Check for any upper outliers\n",
    "rb_arr = filtered_rb_column['No of Season']\n",
    "rb_arr[rb_arr>= rb_upper_boundary]"
   ]
  },
  {
   "cell_type": "code",
   "execution_count": 41,
   "metadata": {},
   "outputs": [
    {
     "data": {
      "text/plain": [
       "Series([], Name: No of Season, dtype: int64)"
      ]
     },
     "execution_count": 41,
     "metadata": {},
     "output_type": "execute_result"
    }
   ],
   "source": [
    "# Check for any lower outliers\n",
    "rb_arr[rb_arr<= rb_lower_boundary]"
   ]
  },
  {
   "cell_type": "markdown",
   "metadata": {},
   "source": [
    "### Wide Receiver Players Data 1989-2019 ### "
   ]
  },
  {
   "cell_type": "code",
   "execution_count": 42,
   "metadata": {},
   "outputs": [
    {
     "data": {
      "text/html": [
       "<div>\n",
       "<style scoped>\n",
       "    .dataframe tbody tr th:only-of-type {\n",
       "        vertical-align: middle;\n",
       "    }\n",
       "\n",
       "    .dataframe tbody tr th {\n",
       "        vertical-align: top;\n",
       "    }\n",
       "\n",
       "    .dataframe thead th {\n",
       "        text-align: right;\n",
       "    }\n",
       "</style>\n",
       "<table border=\"1\" class=\"dataframe\">\n",
       "  <thead>\n",
       "    <tr style=\"text-align: right;\">\n",
       "      <th></th>\n",
       "      <th>Rk</th>\n",
       "      <th>Player</th>\n",
       "      <th>From</th>\n",
       "      <th>To</th>\n",
       "      <th>No of Season</th>\n",
       "      <th>Tm</th>\n",
       "      <th>Lg</th>\n",
       "      <th>G</th>\n",
       "      <th>GS</th>\n",
       "      <th>Tgt</th>\n",
       "      <th>Rec</th>\n",
       "      <th>Yds</th>\n",
       "      <th>Y/R</th>\n",
       "      <th>TD</th>\n",
       "      <th>Y/G</th>\n",
       "      <th>Ctch%</th>\n",
       "      <th>Y/Tgt</th>\n",
       "    </tr>\n",
       "  </thead>\n",
       "  <tbody>\n",
       "    <tr>\n",
       "      <th>0</th>\n",
       "      <td>1</td>\n",
       "      <td>Jerry Rice*</td>\n",
       "      <td>1989</td>\n",
       "      <td>2004</td>\n",
       "      <td>16</td>\n",
       "      <td>TOT</td>\n",
       "      <td>NFL</td>\n",
       "      <td>243.0</td>\n",
       "      <td>237.0</td>\n",
       "      <td>1640.0</td>\n",
       "      <td>1285</td>\n",
       "      <td>18014</td>\n",
       "      <td>14.02</td>\n",
       "      <td>148</td>\n",
       "      <td>74.1</td>\n",
       "      <td>NaN</td>\n",
       "      <td>NaN</td>\n",
       "    </tr>\n",
       "    <tr>\n",
       "      <th>1</th>\n",
       "      <td>2</td>\n",
       "      <td>Larry Fitzgerald</td>\n",
       "      <td>2004</td>\n",
       "      <td>2019</td>\n",
       "      <td>16</td>\n",
       "      <td>CRD</td>\n",
       "      <td>NFL</td>\n",
       "      <td>238.0</td>\n",
       "      <td>236.0</td>\n",
       "      <td>2190.0</td>\n",
       "      <td>1326</td>\n",
       "      <td>16579</td>\n",
       "      <td>12.50</td>\n",
       "      <td>118</td>\n",
       "      <td>69.7</td>\n",
       "      <td>60.50%</td>\n",
       "      <td>7.57</td>\n",
       "    </tr>\n",
       "    <tr>\n",
       "      <th>2</th>\n",
       "      <td>3</td>\n",
       "      <td>Terrell Owens*</td>\n",
       "      <td>1996</td>\n",
       "      <td>2010</td>\n",
       "      <td>15</td>\n",
       "      <td>TOT</td>\n",
       "      <td>NFL</td>\n",
       "      <td>219.0</td>\n",
       "      <td>201.0</td>\n",
       "      <td>1867.0</td>\n",
       "      <td>1078</td>\n",
       "      <td>15934</td>\n",
       "      <td>14.78</td>\n",
       "      <td>153</td>\n",
       "      <td>72.8</td>\n",
       "      <td>57.70%</td>\n",
       "      <td>8.53</td>\n",
       "    </tr>\n",
       "    <tr>\n",
       "      <th>3</th>\n",
       "      <td>4</td>\n",
       "      <td>Randy Moss*</td>\n",
       "      <td>1998</td>\n",
       "      <td>2012</td>\n",
       "      <td>15</td>\n",
       "      <td>TOT</td>\n",
       "      <td>NFL</td>\n",
       "      <td>218.0</td>\n",
       "      <td>193.0</td>\n",
       "      <td>1741.0</td>\n",
       "      <td>982</td>\n",
       "      <td>15292</td>\n",
       "      <td>15.57</td>\n",
       "      <td>156</td>\n",
       "      <td>70.1</td>\n",
       "      <td>56.40%</td>\n",
       "      <td>8.78</td>\n",
       "    </tr>\n",
       "    <tr>\n",
       "      <th>4</th>\n",
       "      <td>5</td>\n",
       "      <td>Isaac Bruce</td>\n",
       "      <td>1994</td>\n",
       "      <td>2009</td>\n",
       "      <td>16</td>\n",
       "      <td>TOT</td>\n",
       "      <td>NFL</td>\n",
       "      <td>223.0</td>\n",
       "      <td>201.0</td>\n",
       "      <td>1770.0</td>\n",
       "      <td>1024</td>\n",
       "      <td>15208</td>\n",
       "      <td>14.85</td>\n",
       "      <td>91</td>\n",
       "      <td>68.2</td>\n",
       "      <td>57.90%</td>\n",
       "      <td>8.59</td>\n",
       "    </tr>\n",
       "  </tbody>\n",
       "</table>\n",
       "</div>"
      ],
      "text/plain": [
       "   Rk            Player  From    To  No of Season   Tm   Lg      G     GS  \\\n",
       "0   1       Jerry Rice*  1989  2004            16  TOT  NFL  243.0  237.0   \n",
       "1   2  Larry Fitzgerald  2004  2019            16  CRD  NFL  238.0  236.0   \n",
       "2   3    Terrell Owens*  1996  2010            15  TOT  NFL  219.0  201.0   \n",
       "3   4       Randy Moss*  1998  2012            15  TOT  NFL  218.0  193.0   \n",
       "4   5       Isaac Bruce  1994  2009            16  TOT  NFL  223.0  201.0   \n",
       "\n",
       "      Tgt   Rec    Yds    Y/R   TD   Y/G   Ctch%  Y/Tgt  \n",
       "0  1640.0  1285  18014  14.02  148  74.1     NaN    NaN  \n",
       "1  2190.0  1326  16579  12.50  118  69.7  60.50%   7.57  \n",
       "2  1867.0  1078  15934  14.78  153  72.8  57.70%   8.53  \n",
       "3  1741.0   982  15292  15.57  156  70.1  56.40%   8.78  \n",
       "4  1770.0  1024  15208  14.85   91  68.2  57.90%   8.59  "
      ]
     },
     "execution_count": 42,
     "metadata": {},
     "output_type": "execute_result"
    }
   ],
   "source": [
    "#  reading wide receiver players data\n",
    "wide_receiver_data_df = pd.read_csv(nfl_wb_file)\n",
    "# preview dataframe\n",
    "wide_receiver_data_df.head()"
   ]
  },
  {
   "cell_type": "code",
   "execution_count": 43,
   "metadata": {},
   "outputs": [
    {
     "data": {
      "text/html": [
       "<div>\n",
       "<style scoped>\n",
       "    .dataframe tbody tr th:only-of-type {\n",
       "        vertical-align: middle;\n",
       "    }\n",
       "\n",
       "    .dataframe tbody tr th {\n",
       "        vertical-align: top;\n",
       "    }\n",
       "\n",
       "    .dataframe thead th {\n",
       "        text-align: right;\n",
       "    }\n",
       "</style>\n",
       "<table border=\"1\" class=\"dataframe\">\n",
       "  <thead>\n",
       "    <tr style=\"text-align: right;\">\n",
       "      <th></th>\n",
       "      <th>Rk</th>\n",
       "      <th>Player</th>\n",
       "      <th>From</th>\n",
       "      <th>To</th>\n",
       "      <th>No of Season</th>\n",
       "      <th>Tm</th>\n",
       "      <th>Lg</th>\n",
       "      <th>G</th>\n",
       "      <th>GS</th>\n",
       "      <th>Tgt</th>\n",
       "      <th>Rec</th>\n",
       "      <th>Yds</th>\n",
       "      <th>Y/R</th>\n",
       "      <th>TD</th>\n",
       "      <th>Y/G</th>\n",
       "      <th>Ctch%</th>\n",
       "      <th>Y/Tgt</th>\n",
       "    </tr>\n",
       "  </thead>\n",
       "  <tbody>\n",
       "    <tr>\n",
       "      <th>0</th>\n",
       "      <td>1</td>\n",
       "      <td>Jerry Rice*</td>\n",
       "      <td>1989</td>\n",
       "      <td>2004</td>\n",
       "      <td>16</td>\n",
       "      <td>TOT</td>\n",
       "      <td>NFL</td>\n",
       "      <td>243.0</td>\n",
       "      <td>237.0</td>\n",
       "      <td>1640.0</td>\n",
       "      <td>1285</td>\n",
       "      <td>18014</td>\n",
       "      <td>14.02</td>\n",
       "      <td>148</td>\n",
       "      <td>74.1</td>\n",
       "      <td>NaN</td>\n",
       "      <td>NaN</td>\n",
       "    </tr>\n",
       "    <tr>\n",
       "      <th>2</th>\n",
       "      <td>3</td>\n",
       "      <td>Terrell Owens*</td>\n",
       "      <td>1996</td>\n",
       "      <td>2010</td>\n",
       "      <td>15</td>\n",
       "      <td>TOT</td>\n",
       "      <td>NFL</td>\n",
       "      <td>219.0</td>\n",
       "      <td>201.0</td>\n",
       "      <td>1867.0</td>\n",
       "      <td>1078</td>\n",
       "      <td>15934</td>\n",
       "      <td>14.78</td>\n",
       "      <td>153</td>\n",
       "      <td>72.8</td>\n",
       "      <td>57.70%</td>\n",
       "      <td>8.53</td>\n",
       "    </tr>\n",
       "    <tr>\n",
       "      <th>3</th>\n",
       "      <td>4</td>\n",
       "      <td>Randy Moss*</td>\n",
       "      <td>1998</td>\n",
       "      <td>2012</td>\n",
       "      <td>15</td>\n",
       "      <td>TOT</td>\n",
       "      <td>NFL</td>\n",
       "      <td>218.0</td>\n",
       "      <td>193.0</td>\n",
       "      <td>1741.0</td>\n",
       "      <td>982</td>\n",
       "      <td>15292</td>\n",
       "      <td>15.57</td>\n",
       "      <td>156</td>\n",
       "      <td>70.1</td>\n",
       "      <td>56.40%</td>\n",
       "      <td>8.78</td>\n",
       "    </tr>\n",
       "    <tr>\n",
       "      <th>4</th>\n",
       "      <td>5</td>\n",
       "      <td>Isaac Bruce</td>\n",
       "      <td>1994</td>\n",
       "      <td>2009</td>\n",
       "      <td>16</td>\n",
       "      <td>TOT</td>\n",
       "      <td>NFL</td>\n",
       "      <td>223.0</td>\n",
       "      <td>201.0</td>\n",
       "      <td>1770.0</td>\n",
       "      <td>1024</td>\n",
       "      <td>15208</td>\n",
       "      <td>14.85</td>\n",
       "      <td>91</td>\n",
       "      <td>68.2</td>\n",
       "      <td>57.90%</td>\n",
       "      <td>8.59</td>\n",
       "    </tr>\n",
       "    <tr>\n",
       "      <th>5</th>\n",
       "      <td>6</td>\n",
       "      <td>Steve Smith</td>\n",
       "      <td>2001</td>\n",
       "      <td>2016</td>\n",
       "      <td>16</td>\n",
       "      <td>TOT</td>\n",
       "      <td>NFL</td>\n",
       "      <td>219.0</td>\n",
       "      <td>198.0</td>\n",
       "      <td>1748.0</td>\n",
       "      <td>1031</td>\n",
       "      <td>14731</td>\n",
       "      <td>14.29</td>\n",
       "      <td>81</td>\n",
       "      <td>67.3</td>\n",
       "      <td>59.00%</td>\n",
       "      <td>8.43</td>\n",
       "    </tr>\n",
       "  </tbody>\n",
       "</table>\n",
       "</div>"
      ],
      "text/plain": [
       "   Rk          Player  From    To  No of Season   Tm   Lg      G     GS  \\\n",
       "0   1     Jerry Rice*  1989  2004            16  TOT  NFL  243.0  237.0   \n",
       "2   3  Terrell Owens*  1996  2010            15  TOT  NFL  219.0  201.0   \n",
       "3   4     Randy Moss*  1998  2012            15  TOT  NFL  218.0  193.0   \n",
       "4   5     Isaac Bruce  1994  2009            16  TOT  NFL  223.0  201.0   \n",
       "5   6     Steve Smith  2001  2016            16  TOT  NFL  219.0  198.0   \n",
       "\n",
       "      Tgt   Rec    Yds    Y/R   TD   Y/G   Ctch%  Y/Tgt  \n",
       "0  1640.0  1285  18014  14.02  148  74.1     NaN    NaN  \n",
       "2  1867.0  1078  15934  14.78  153  72.8  57.70%   8.53  \n",
       "3  1741.0   982  15292  15.57  156  70.1  56.40%   8.78  \n",
       "4  1770.0  1024  15208  14.85   91  68.2  57.90%   8.59  \n",
       "5  1748.0  1031  14731  14.29   81  67.3  59.00%   8.43  "
      ]
     },
     "execution_count": 43,
     "metadata": {},
     "output_type": "execute_result"
    }
   ],
   "source": [
    "#  dropping currunt players from dataframe column\n",
    "filtered_wb_column =wide_receiver_data_df[wide_receiver_data_df['To']!=2019]\n",
    "filtered_wb_column.head()"
   ]
  },
  {
   "cell_type": "code",
   "execution_count": 44,
   "metadata": {},
   "outputs": [
    {
     "data": {
      "text/plain": [
       "3.314233609978232"
      ]
     },
     "execution_count": 44,
     "metadata": {},
     "output_type": "execute_result"
    }
   ],
   "source": [
    "# finding staderd deviation of wide receiver players\n",
    "std_wb_value = filtered_wb_column['No of Season'].std()\n",
    "std_wb_value"
   ]
  },
  {
   "cell_type": "code",
   "execution_count": 45,
   "metadata": {},
   "outputs": [
    {
     "data": {
      "text/plain": [
       "4.1109540636042405"
      ]
     },
     "execution_count": 45,
     "metadata": {},
     "output_type": "execute_result"
    }
   ],
   "source": [
    "# finding mean of wide receiver players\n",
    "mean_wb_value = filtered_wb_column['No of Season'].mean()\n",
    "mean_wb_value"
   ]
  },
  {
   "cell_type": "code",
   "execution_count": 46,
   "metadata": {},
   "outputs": [
    {
     "data": {
      "text/plain": [
       "3.0"
      ]
     },
     "execution_count": 46,
     "metadata": {},
     "output_type": "execute_result"
    }
   ],
   "source": [
    "# finding median of wide receiver players\n",
    "median_wb_value = filtered_wb_column['No of Season'].median()\n",
    "median_wb_value"
   ]
  },
  {
   "cell_type": "code",
   "execution_count": 47,
   "metadata": {},
   "outputs": [
    {
     "name": "stdout",
     "output_type": "stream",
     "text": [
      "Q1 is 1.0\n",
      "Q3 is 6.0\n"
     ]
    }
   ],
   "source": [
    "# Use numpy to create quartiles\n",
    "wb_q1 = np.percentile(filtered_wb_column['No of Season'], 25)\n",
    "wb_q3 = np.percentile(filtered_wb_column['No of Season'],75)\n",
    "print(f\"Q1 is {wb_q1}\")\n",
    "print(f\"Q3 is {wb_q3}\")"
   ]
  },
  {
   "cell_type": "code",
   "execution_count": 48,
   "metadata": {},
   "outputs": [
    {
     "name": "stdout",
     "output_type": "stream",
     "text": [
      "interquartile range: 5.0\n"
     ]
    }
   ],
   "source": [
    "# Calculate the interquartile range\n",
    "wb_iqr = (wb_q3 - wb_q1)\n",
    "print(\"interquartile range:\", wb_iqr)"
   ]
  },
  {
   "cell_type": "code",
   "execution_count": 49,
   "metadata": {},
   "outputs": [
    {
     "data": {
      "text/plain": [
       "-6.5"
      ]
     },
     "execution_count": 49,
     "metadata": {},
     "output_type": "execute_result"
    }
   ],
   "source": [
    "# Find lower boundary\n",
    "wb_lower_boundary = wb_q1 - (1.5 * wb_iqr)\n",
    "wb_lower_boundary"
   ]
  },
  {
   "cell_type": "code",
   "execution_count": 50,
   "metadata": {},
   "outputs": [
    {
     "data": {
      "text/plain": [
       "13.5"
      ]
     },
     "execution_count": 50,
     "metadata": {},
     "output_type": "execute_result"
    }
   ],
   "source": [
    "# Find upper boundary\n",
    "wb_upper_boundary = wb_q3 + (1.5 * wb_iqr)\n",
    "wb_upper_boundary"
   ]
  },
  {
   "cell_type": "code",
   "execution_count": 51,
   "metadata": {},
   "outputs": [
    {
     "data": {
      "text/plain": [
       "0      16\n",
       "2      15\n",
       "3      15\n",
       "4      16\n",
       "5      16\n",
       "7      14\n",
       "8      16\n",
       "9      14\n",
       "10     14\n",
       "12     14\n",
       "14     14\n",
       "15     14\n",
       "16     15\n",
       "18     14\n",
       "20     16\n",
       "25     16\n",
       "29     14\n",
       "32     14\n",
       "45     17\n",
       "61     14\n",
       "92     15\n",
       "113    14\n",
       "123    15\n",
       "562    17\n",
       "Name: No of Season, dtype: int64"
      ]
     },
     "execution_count": 51,
     "metadata": {},
     "output_type": "execute_result"
    }
   ],
   "source": [
    "# Check for any upper outliers\n",
    "wb_arr = filtered_wb_column['No of Season']\n",
    "wb_arr[wb_arr>= wb_upper_boundary]"
   ]
  },
  {
   "cell_type": "code",
   "execution_count": 52,
   "metadata": {},
   "outputs": [
    {
     "data": {
      "text/plain": [
       "Series([], Name: No of Season, dtype: int64)"
      ]
     },
     "execution_count": 52,
     "metadata": {},
     "output_type": "execute_result"
    }
   ],
   "source": [
    "# Check for any lower outliers\n",
    "wb_arr[wb_arr<= wb_lower_boundary]"
   ]
  },
  {
   "cell_type": "markdown",
   "metadata": {},
   "source": [
    "### Tight End players Data 1989 - 2019 ###"
   ]
  },
  {
   "cell_type": "code",
   "execution_count": 53,
   "metadata": {},
   "outputs": [
    {
     "data": {
      "text/html": [
       "<div>\n",
       "<style scoped>\n",
       "    .dataframe tbody tr th:only-of-type {\n",
       "        vertical-align: middle;\n",
       "    }\n",
       "\n",
       "    .dataframe tbody tr th {\n",
       "        vertical-align: top;\n",
       "    }\n",
       "\n",
       "    .dataframe thead th {\n",
       "        text-align: right;\n",
       "    }\n",
       "</style>\n",
       "<table border=\"1\" class=\"dataframe\">\n",
       "  <thead>\n",
       "    <tr style=\"text-align: right;\">\n",
       "      <th></th>\n",
       "      <th>Rk</th>\n",
       "      <th>Player</th>\n",
       "      <th>From</th>\n",
       "      <th>To</th>\n",
       "      <th>No of Season</th>\n",
       "      <th>Tm</th>\n",
       "      <th>Lg</th>\n",
       "      <th>G</th>\n",
       "      <th>GS</th>\n",
       "      <th>Tgt</th>\n",
       "      <th>Rec</th>\n",
       "      <th>Yds</th>\n",
       "      <th>Y/R</th>\n",
       "      <th>TD</th>\n",
       "      <th>Y/G</th>\n",
       "      <th>Ctch%</th>\n",
       "      <th>Y/Tgt</th>\n",
       "    </tr>\n",
       "  </thead>\n",
       "  <tbody>\n",
       "    <tr>\n",
       "      <th>0</th>\n",
       "      <td>1</td>\n",
       "      <td>Tony Gonzalez*</td>\n",
       "      <td>1997</td>\n",
       "      <td>2013</td>\n",
       "      <td>17</td>\n",
       "      <td>TOT</td>\n",
       "      <td>NFL</td>\n",
       "      <td>270.0</td>\n",
       "      <td>254.0</td>\n",
       "      <td>2012.0</td>\n",
       "      <td>1325</td>\n",
       "      <td>15127</td>\n",
       "      <td>11.42</td>\n",
       "      <td>111</td>\n",
       "      <td>56.0</td>\n",
       "      <td>65.90%</td>\n",
       "      <td>7.52</td>\n",
       "    </tr>\n",
       "    <tr>\n",
       "      <th>1</th>\n",
       "      <td>2</td>\n",
       "      <td>Jason Witten</td>\n",
       "      <td>2003</td>\n",
       "      <td>2019</td>\n",
       "      <td>17</td>\n",
       "      <td>DAL</td>\n",
       "      <td>NFL</td>\n",
       "      <td>243.0</td>\n",
       "      <td>233.0</td>\n",
       "      <td>1636.0</td>\n",
       "      <td>1166</td>\n",
       "      <td>12592</td>\n",
       "      <td>10.80</td>\n",
       "      <td>70</td>\n",
       "      <td>51.8</td>\n",
       "      <td>71.30%</td>\n",
       "      <td>7.70</td>\n",
       "    </tr>\n",
       "    <tr>\n",
       "      <th>2</th>\n",
       "      <td>3</td>\n",
       "      <td>Antonio Gates</td>\n",
       "      <td>2003</td>\n",
       "      <td>2018</td>\n",
       "      <td>16</td>\n",
       "      <td>SDG</td>\n",
       "      <td>NFL</td>\n",
       "      <td>236.0</td>\n",
       "      <td>190.0</td>\n",
       "      <td>1459.0</td>\n",
       "      <td>955</td>\n",
       "      <td>11841</td>\n",
       "      <td>12.40</td>\n",
       "      <td>116</td>\n",
       "      <td>50.2</td>\n",
       "      <td>65.50%</td>\n",
       "      <td>8.12</td>\n",
       "    </tr>\n",
       "    <tr>\n",
       "      <th>3</th>\n",
       "      <td>4</td>\n",
       "      <td>Shannon Sharpe*</td>\n",
       "      <td>1990</td>\n",
       "      <td>2003</td>\n",
       "      <td>14</td>\n",
       "      <td>TOT</td>\n",
       "      <td>NFL</td>\n",
       "      <td>204.0</td>\n",
       "      <td>169.0</td>\n",
       "      <td>1197.0</td>\n",
       "      <td>815</td>\n",
       "      <td>10060</td>\n",
       "      <td>12.34</td>\n",
       "      <td>62</td>\n",
       "      <td>49.3</td>\n",
       "      <td>NaN</td>\n",
       "      <td>NaN</td>\n",
       "    </tr>\n",
       "    <tr>\n",
       "      <th>4</th>\n",
       "      <td>5</td>\n",
       "      <td>Greg Olsen</td>\n",
       "      <td>2007</td>\n",
       "      <td>2019</td>\n",
       "      <td>13</td>\n",
       "      <td>TOT</td>\n",
       "      <td>NFL</td>\n",
       "      <td>178.0</td>\n",
       "      <td>152.0</td>\n",
       "      <td>1111.0</td>\n",
       "      <td>684</td>\n",
       "      <td>8073</td>\n",
       "      <td>11.80</td>\n",
       "      <td>59</td>\n",
       "      <td>45.4</td>\n",
       "      <td>61.60%</td>\n",
       "      <td>7.27</td>\n",
       "    </tr>\n",
       "  </tbody>\n",
       "</table>\n",
       "</div>"
      ],
      "text/plain": [
       "   Rk           Player  From    To  No of Season   Tm   Lg      G     GS  \\\n",
       "0   1   Tony Gonzalez*  1997  2013            17  TOT  NFL  270.0  254.0   \n",
       "1   2     Jason Witten  2003  2019            17  DAL  NFL  243.0  233.0   \n",
       "2   3    Antonio Gates  2003  2018            16  SDG  NFL  236.0  190.0   \n",
       "3   4  Shannon Sharpe*  1990  2003            14  TOT  NFL  204.0  169.0   \n",
       "4   5       Greg Olsen  2007  2019            13  TOT  NFL  178.0  152.0   \n",
       "\n",
       "      Tgt   Rec    Yds    Y/R   TD   Y/G   Ctch%  Y/Tgt  \n",
       "0  2012.0  1325  15127  11.42  111  56.0  65.90%   7.52  \n",
       "1  1636.0  1166  12592  10.80   70  51.8  71.30%   7.70  \n",
       "2  1459.0   955  11841  12.40  116  50.2  65.50%   8.12  \n",
       "3  1197.0   815  10060  12.34   62  49.3     NaN    NaN  \n",
       "4  1111.0   684   8073  11.80   59  45.4  61.60%   7.27  "
      ]
     },
     "execution_count": 53,
     "metadata": {},
     "output_type": "execute_result"
    }
   ],
   "source": [
    "#  reading TE players data\n",
    "te_data_df = pd.read_csv(nfl_te_file)\n",
    "# preview dataframe\n",
    "te_data_df.head()"
   ]
  },
  {
   "cell_type": "code",
   "execution_count": 54,
   "metadata": {},
   "outputs": [
    {
     "data": {
      "text/html": [
       "<div>\n",
       "<style scoped>\n",
       "    .dataframe tbody tr th:only-of-type {\n",
       "        vertical-align: middle;\n",
       "    }\n",
       "\n",
       "    .dataframe tbody tr th {\n",
       "        vertical-align: top;\n",
       "    }\n",
       "\n",
       "    .dataframe thead th {\n",
       "        text-align: right;\n",
       "    }\n",
       "</style>\n",
       "<table border=\"1\" class=\"dataframe\">\n",
       "  <thead>\n",
       "    <tr style=\"text-align: right;\">\n",
       "      <th></th>\n",
       "      <th>Rk</th>\n",
       "      <th>Player</th>\n",
       "      <th>From</th>\n",
       "      <th>To</th>\n",
       "      <th>No of Season</th>\n",
       "      <th>Tm</th>\n",
       "      <th>Lg</th>\n",
       "      <th>G</th>\n",
       "      <th>GS</th>\n",
       "      <th>Tgt</th>\n",
       "      <th>Rec</th>\n",
       "      <th>Yds</th>\n",
       "      <th>Y/R</th>\n",
       "      <th>TD</th>\n",
       "      <th>Y/G</th>\n",
       "      <th>Ctch%</th>\n",
       "      <th>Y/Tgt</th>\n",
       "    </tr>\n",
       "  </thead>\n",
       "  <tbody>\n",
       "    <tr>\n",
       "      <th>0</th>\n",
       "      <td>1</td>\n",
       "      <td>Tony Gonzalez*</td>\n",
       "      <td>1997</td>\n",
       "      <td>2013</td>\n",
       "      <td>17</td>\n",
       "      <td>TOT</td>\n",
       "      <td>NFL</td>\n",
       "      <td>270.0</td>\n",
       "      <td>254.0</td>\n",
       "      <td>2012.0</td>\n",
       "      <td>1325</td>\n",
       "      <td>15127</td>\n",
       "      <td>11.42</td>\n",
       "      <td>111</td>\n",
       "      <td>56.0</td>\n",
       "      <td>65.90%</td>\n",
       "      <td>7.52</td>\n",
       "    </tr>\n",
       "    <tr>\n",
       "      <th>2</th>\n",
       "      <td>3</td>\n",
       "      <td>Antonio Gates</td>\n",
       "      <td>2003</td>\n",
       "      <td>2018</td>\n",
       "      <td>16</td>\n",
       "      <td>SDG</td>\n",
       "      <td>NFL</td>\n",
       "      <td>236.0</td>\n",
       "      <td>190.0</td>\n",
       "      <td>1459.0</td>\n",
       "      <td>955</td>\n",
       "      <td>11841</td>\n",
       "      <td>12.40</td>\n",
       "      <td>116</td>\n",
       "      <td>50.2</td>\n",
       "      <td>65.50%</td>\n",
       "      <td>8.12</td>\n",
       "    </tr>\n",
       "    <tr>\n",
       "      <th>3</th>\n",
       "      <td>4</td>\n",
       "      <td>Shannon Sharpe*</td>\n",
       "      <td>1990</td>\n",
       "      <td>2003</td>\n",
       "      <td>14</td>\n",
       "      <td>TOT</td>\n",
       "      <td>NFL</td>\n",
       "      <td>204.0</td>\n",
       "      <td>169.0</td>\n",
       "      <td>1197.0</td>\n",
       "      <td>815</td>\n",
       "      <td>10060</td>\n",
       "      <td>12.34</td>\n",
       "      <td>62</td>\n",
       "      <td>49.3</td>\n",
       "      <td>NaN</td>\n",
       "      <td>NaN</td>\n",
       "    </tr>\n",
       "    <tr>\n",
       "      <th>5</th>\n",
       "      <td>6</td>\n",
       "      <td>Rob Gronkowski</td>\n",
       "      <td>2010</td>\n",
       "      <td>2018</td>\n",
       "      <td>9</td>\n",
       "      <td>NWE</td>\n",
       "      <td>NFL</td>\n",
       "      <td>115.0</td>\n",
       "      <td>100.0</td>\n",
       "      <td>794.0</td>\n",
       "      <td>521</td>\n",
       "      <td>7861</td>\n",
       "      <td>15.09</td>\n",
       "      <td>79</td>\n",
       "      <td>68.4</td>\n",
       "      <td>65.60%</td>\n",
       "      <td>9.90</td>\n",
       "    </tr>\n",
       "    <tr>\n",
       "      <th>8</th>\n",
       "      <td>9</td>\n",
       "      <td>Heath Miller</td>\n",
       "      <td>2005</td>\n",
       "      <td>2015</td>\n",
       "      <td>11</td>\n",
       "      <td>PIT</td>\n",
       "      <td>NFL</td>\n",
       "      <td>168.0</td>\n",
       "      <td>167.0</td>\n",
       "      <td>825.0</td>\n",
       "      <td>592</td>\n",
       "      <td>6569</td>\n",
       "      <td>11.10</td>\n",
       "      <td>45</td>\n",
       "      <td>39.1</td>\n",
       "      <td>71.80%</td>\n",
       "      <td>7.96</td>\n",
       "    </tr>\n",
       "  </tbody>\n",
       "</table>\n",
       "</div>"
      ],
      "text/plain": [
       "   Rk           Player  From    To  No of Season   Tm   Lg      G     GS  \\\n",
       "0   1   Tony Gonzalez*  1997  2013            17  TOT  NFL  270.0  254.0   \n",
       "2   3    Antonio Gates  2003  2018            16  SDG  NFL  236.0  190.0   \n",
       "3   4  Shannon Sharpe*  1990  2003            14  TOT  NFL  204.0  169.0   \n",
       "5   6   Rob Gronkowski  2010  2018             9  NWE  NFL  115.0  100.0   \n",
       "8   9     Heath Miller  2005  2015            11  PIT  NFL  168.0  167.0   \n",
       "\n",
       "      Tgt   Rec    Yds    Y/R   TD   Y/G   Ctch%  Y/Tgt  \n",
       "0  2012.0  1325  15127  11.42  111  56.0  65.90%   7.52  \n",
       "2  1459.0   955  11841  12.40  116  50.2  65.50%   8.12  \n",
       "3  1197.0   815  10060  12.34   62  49.3     NaN    NaN  \n",
       "5   794.0   521   7861  15.09   79  68.4  65.60%   9.90  \n",
       "8   825.0   592   6569  11.10   45  39.1  71.80%   7.96  "
      ]
     },
     "execution_count": 54,
     "metadata": {},
     "output_type": "execute_result"
    }
   ],
   "source": [
    "#  dropping currunt players from dataframe column\n",
    "filtered_te_column =te_data_df[te_data_df['To']!=2019]\n",
    "filtered_te_column.head()"
   ]
  },
  {
   "cell_type": "code",
   "execution_count": 55,
   "metadata": {},
   "outputs": [
    {
     "data": {
      "text/plain": [
       "3.4299590093951338"
      ]
     },
     "execution_count": 55,
     "metadata": {},
     "output_type": "execute_result"
    }
   ],
   "source": [
    "# finding staderd deviation of TE players\n",
    "std_te_value = filtered_te_column['No of Season'].std()\n",
    "std_te_value"
   ]
  },
  {
   "cell_type": "code",
   "execution_count": 56,
   "metadata": {},
   "outputs": [
    {
     "data": {
      "text/plain": [
       "4.63031914893617"
      ]
     },
     "execution_count": 56,
     "metadata": {},
     "output_type": "execute_result"
    }
   ],
   "source": [
    "# finding staderd deviation of TE players\n",
    "mean_te_value = filtered_te_column['No of Season'].mean()\n",
    "mean_te_value"
   ]
  },
  {
   "cell_type": "code",
   "execution_count": 57,
   "metadata": {},
   "outputs": [
    {
     "data": {
      "text/plain": [
       "4.0"
      ]
     },
     "execution_count": 57,
     "metadata": {},
     "output_type": "execute_result"
    }
   ],
   "source": [
    "# finding staderd deviation of TE players\n",
    "median_te_value = filtered_te_column['No of Season'].median()\n",
    "median_te_value"
   ]
  },
  {
   "cell_type": "code",
   "execution_count": 58,
   "metadata": {},
   "outputs": [
    {
     "name": "stdout",
     "output_type": "stream",
     "text": [
      "Q1 is 2.0\n",
      "Q3 is 7.0\n"
     ]
    }
   ],
   "source": [
    "# Use numpy to create quartiles\n",
    "te_q1 = np.percentile(filtered_te_column['No of Season'], 25)\n",
    "te_q3 = np.percentile(filtered_te_column['No of Season'],75)\n",
    "print(f\"Q1 is {te_q1}\")\n",
    "print(f\"Q3 is {te_q3}\")"
   ]
  },
  {
   "cell_type": "code",
   "execution_count": 59,
   "metadata": {},
   "outputs": [
    {
     "name": "stdout",
     "output_type": "stream",
     "text": [
      "interquartile range: 5.0\n"
     ]
    }
   ],
   "source": [
    "# Calculate the interquartile range\n",
    "te_iqr = (te_q3 - te_q1)\n",
    "print(\"interquartile range:\", te_iqr)"
   ]
  },
  {
   "cell_type": "code",
   "execution_count": 60,
   "metadata": {},
   "outputs": [
    {
     "data": {
      "text/plain": [
       "-5.5"
      ]
     },
     "execution_count": 60,
     "metadata": {},
     "output_type": "execute_result"
    }
   ],
   "source": [
    "# Find lower boundary\n",
    "te_lower_boundary = te_q1 - (1.5 * te_iqr)\n",
    "te_lower_boundary"
   ]
  },
  {
   "cell_type": "code",
   "execution_count": 61,
   "metadata": {},
   "outputs": [
    {
     "data": {
      "text/plain": [
       "14.5"
      ]
     },
     "execution_count": 61,
     "metadata": {},
     "output_type": "execute_result"
    }
   ],
   "source": [
    "# Find upper boundary\n",
    "te_upper_boundary = te_q3 + (1.5 * te_iqr)\n",
    "te_upper_boundary"
   ]
  },
  {
   "cell_type": "code",
   "execution_count": 62,
   "metadata": {},
   "outputs": [
    {
     "data": {
      "text/plain": [
       "0      17\n",
       "2      16\n",
       "10     15\n",
       "18     15\n",
       "93     15\n",
       "116    15\n",
       "349    17\n",
       "754    15\n",
       "787    16\n",
       "Name: No of Season, dtype: int64"
      ]
     },
     "execution_count": 62,
     "metadata": {},
     "output_type": "execute_result"
    }
   ],
   "source": [
    "# Check for any upper outliers\n",
    "te_arr = filtered_te_column['No of Season']\n",
    "te_arr[te_arr>= te_upper_boundary]"
   ]
  },
  {
   "cell_type": "code",
   "execution_count": 63,
   "metadata": {},
   "outputs": [
    {
     "data": {
      "text/plain": [
       "Series([], Name: No of Season, dtype: int64)"
      ]
     },
     "execution_count": 63,
     "metadata": {},
     "output_type": "execute_result"
    }
   ],
   "source": [
    "# Check for any lower outliers\n",
    "te_arr[te_arr<= te_lower_boundary]"
   ]
  },
  {
   "cell_type": "code",
   "execution_count": 68,
   "metadata": {},
   "outputs": [
    {
     "data": {
      "image/png": "[encoded data removed]",
      "text/plain": [
       "<Figure size 432x288 with 1 Axes>"
      ]
     },
     "metadata": {
      "needs_background": "light"
     },
     "output_type": "display_data"
    }
   ],
   "source": [
    "# Create box plot\n",
    "plt.boxplot([arr, rb_arr,wb_arr,te_arr], showmeans=True)\n",
    "x = [1,2,3,4]\n",
    "labels = ['QB', 'RB', 'WR', 'TE']\n",
    "plt.xticks(x, labels)\n",
    "\n",
    "plt.grid()\n",
    "plt.title(\"Average career Data\")\n",
    "plt.ylabel(\"No of seasons played\")\n",
    "plt.xlabel(\"NFL players , 1989-2018\")\n",
    "plt.show()"
   ]
  },
  {
   "cell_type": "code",
   "execution_count": null,
   "metadata": {},
   "outputs": [],
   "source": []
  },
  {
   "cell_type": "code",
   "execution_count": null,
   "metadata": {},
   "outputs": [],
   "source": []
  }
 ],
 "metadata": {
  "kernelspec": {
   "display_name": "Python 3",
   "language": "python",
   "name": "python3"
  },
  "language_info": {
   "codemirror_mode": {
    "name": "ipython",
    "version": 3
   },
   "file_extension": ".py",
   "mimetype": "text/x-python",
   "name": "python",
   "nbconvert_exporter": "python",
   "pygments_lexer": "ipython3",
   "version": "3.7.3"
  }
 },
 "nbformat": 4,
 "nbformat_minor": 2
}
